{
  "nbformat": 4,
  "nbformat_minor": 0,
  "metadata": {
    "colab": {
      "name": "Asokan.ipynb",
      "private_outputs": true,
      "provenance": [],
      "include_colab_link": true
    },
    "kernelspec": {
      "name": "python3",
      "display_name": "Python 3"
    },
    "language_info": {
      "name": "python"
    }
  },
  "cells": [
    {
      "cell_type": "markdown",
      "metadata": {
        "id": "view-in-github",
        "colab_type": "text"
      },
      "source": [
        "<a href=\"https://colab.research.google.com/github/meghanachunduru22/DSA-Practice/blob/main/Asokan.ipynb\" target=\"_parent\"><img src=\"https://colab.research.google.com/assets/colab-badge.svg\" alt=\"Open In Colab\"/></a>"
      ]
    },
    {
      "cell_type": "code",
      "metadata": {
        "id": "SEZ6typjySs-"
      },
      "source": [
        "def num2digits(n: int) -> [int]:\n",
        "    return [int(ch) for ch in str(n)]"
      ],
      "execution_count": null,
      "outputs": []
    },
    {
      "cell_type": "code",
      "metadata": {
        "id": "qBOVm3YYyo04"
      },
      "source": [
        "def digits2num(d:[int]) -> int:\n",
        "    if len(d) == 1:\n",
        "        return d[-1]\n",
        "    return digits2num(d[:-1]) * 10 + d[-1]"
      ],
      "execution_count": null,
      "outputs": []
    },
    {
      "cell_type": "code",
      "metadata": {
        "id": "N7lHHiGjzwkR"
      },
      "source": [
        "def largest(n: int) -> int:\n",
        "    return digits2num(sorted(num2digits(n), reverse=True))\n",
        "\n",
        "def smallest(n: int) -> int:\n",
        "    return digits2num(sorted(num2digits(n)))\n",
        "\n",
        "def next_kap(n: int) -> int:\n",
        "    return largest(n) - smallest(n)"
      ],
      "execution_count": null,
      "outputs": []
    },
    {
      "cell_type": "code",
      "metadata": {
        "id": "IBoYKnr2PQm7"
      },
      "source": [
        "def fixed_point(f, n: int) -> int:\n",
        "    if n == f(n):\n",
        "        return [n]\n",
        "    return [n] + fixed_point(f,f(n))"
      ],
      "execution_count": null,
      "outputs": []
    },
    {
      "cell_type": "code",
      "metadata": {
        "id": "YSu9_-QePUo3"
      },
      "source": [
        "fixed_point(next_kap, 7893)"
      ],
      "execution_count": null,
      "outputs": []
    },
    {
      "cell_type": "code",
      "metadata": {
        "id": "Thw1hOj8PY4-"
      },
      "source": [
        ""
      ],
      "execution_count": null,
      "outputs": []
    }
  ]
}