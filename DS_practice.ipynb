{
  "nbformat": 4,
  "nbformat_minor": 0,
  "metadata": {
    "colab": {
      "name": "DS_practice.ipynb",
      "provenance": [],
      "collapsed_sections": [],
      "authorship_tag": "ABX9TyP0DNnlXf0GqI3yhN8wP9fq",
      "include_colab_link": true
    },
    "kernelspec": {
      "name": "python3",
      "display_name": "Python 3"
    }
  },
  "cells": [
    {
      "cell_type": "markdown",
      "metadata": {
        "id": "view-in-github",
        "colab_type": "text"
      },
      "source": [
        "<a href=\"https://colab.research.google.com/github/meghanachunduru22/DSA-Practice/blob/main/DS_practice.ipynb\" target=\"_parent\"><img src=\"https://colab.research.google.com/assets/colab-badge.svg\" alt=\"Open In Colab\"/></a>"
      ]
    },
    {
      "cell_type": "code",
      "metadata": {
        "id": "TwfY0ruABcMP"
      },
      "source": [
        "lis = []\n",
        "def pair_sum(l,n):\n",
        "  for a in l: \n",
        "    for b in l:\n",
        "      if l.index(a) != l.index(b):  \n",
        "        if a + b == n:\n",
        "          lis.append((a,b))\n",
        "          l.remove(a)\n",
        "          l.remove(b)\n",
        "  \n",
        "  for e in lis:\n",
        "    print(e)      \n"
      ],
      "execution_count": null,
      "outputs": []
    },
    {
      "cell_type": "code",
      "metadata": {
        "id": "EK0RaMdpCaIm",
        "outputId": "0266484f-3646-4035-f674-f6e08235ed7f",
        "colab": {
          "base_uri": "https://localhost:8080/",
          "height": 34
        }
      },
      "source": [
        "pair_sum([1,2],3)"
      ],
      "execution_count": null,
      "outputs": [
        {
          "output_type": "stream",
          "text": [
            "(1, 2)\n"
          ],
          "name": "stdout"
        }
      ]
    },
    {
      "cell_type": "code",
      "metadata": {
        "id": "gpQq2N_v7kdC"
      },
      "source": [
        "def missing(l1,l2):\n",
        "  l1.sort()\n",
        "  l2.sort()\n",
        "  for i in l1:\n",
        "    if i not in l2:\n",
        "      return i\n"
      ],
      "execution_count": null,
      "outputs": []
    },
    {
      "cell_type": "code",
      "metadata": {
        "id": "jN_QQQTY7kQ3",
        "outputId": "3ee7c5c4-3e24-4eab-bd83-1a05b335b7e6",
        "colab": {
          "base_uri": "https://localhost:8080/",
          "height": 34
        }
      },
      "source": [
        "missing([1,2,3,4,5],[4,2,1,3])"
      ],
      "execution_count": null,
      "outputs": [
        {
          "output_type": "execute_result",
          "data": {
            "text/plain": [
              "5"
            ]
          },
          "metadata": {
            "tags": []
          },
          "execution_count": 2
        }
      ]
    },
    {
      "cell_type": "code",
      "metadata": {
        "id": "k8X9lIlV9LxP",
        "outputId": "a5f9bd4b-5807-411a-f6e9-e1ecc107e396",
        "colab": {
          "base_uri": "https://localhost:8080/",
          "height": 34
        }
      },
      "source": [
        "arr = [2,1,6,4]\n",
        "arr.sort()\n",
        "print(arr)"
      ],
      "execution_count": null,
      "outputs": [
        {
          "output_type": "stream",
          "text": [
            "[1, 2, 4, 6]\n"
          ],
          "name": "stdout"
        }
      ]
    },
    {
      "cell_type": "code",
      "metadata": {
        "id": "FEDBASC5-7rv",
        "outputId": "c3c4b36e-d20d-4358-c085-be980833e8c1",
        "colab": {
          "base_uri": "https://localhost:8080/",
          "height": 34
        }
      },
      "source": [
        "import collections\n",
        "d = collections.defaultdict(int)\n",
        "d"
      ],
      "execution_count": null,
      "outputs": [
        {
          "output_type": "execute_result",
          "data": {
            "text/plain": [
              "defaultdict(int, {})"
            ]
          },
          "metadata": {
            "tags": []
          },
          "execution_count": 10
        }
      ]
    },
    {
      "cell_type": "code",
      "metadata": {
        "id": "fhKRuqhmlwCR"
      },
      "source": [
        "def largest_continuos_sum(arr):\n",
        "  s = 0\n",
        "  for i in arr:\n",
        "    if i > 0:\n",
        "      s += i\n",
        "  return s\n",
        "\n"
      ],
      "execution_count": null,
      "outputs": []
    },
    {
      "cell_type": "code",
      "metadata": {
        "id": "GZqdJsLElwVO",
        "outputId": "99b14a5e-e861-4b7a-af22-8dc8273c4c32",
        "colab": {
          "base_uri": "https://localhost:8080/",
          "height": 34
        }
      },
      "source": [
        "largest_continuos_sum([1,2,3,4,5,6,7,8,9,0,-1,-2])"
      ],
      "execution_count": null,
      "outputs": [
        {
          "output_type": "execute_result",
          "data": {
            "text/plain": [
              "45"
            ]
          },
          "metadata": {
            "tags": []
          },
          "execution_count": 2
        }
      ]
    },
    {
      "cell_type": "code",
      "metadata": {
        "id": "3-KA3qf_lwi6"
      },
      "source": [
        "def reverse_sentence(sen):\n",
        "  reverse_list = []\n",
        "  for i in sen:\n",
        "    if i == \" \":\n",
        "      index = sen.index(i)\n",
        "      reverse_list.append(sen[:index])\n",
        "      if sen[index+1] == \" \":\n",
        "        sen = sen[index + 2:]\n",
        "      else:\n",
        "        sen = sen[index + 1:]\n",
        "    elif \" \" not in sen:\n",
        "      while \"\" in reverse_list:\n",
        "          reverse_list.remove(\"\")\n",
        "      reverse_list.append(sen)\n",
        "      return \" \".join(reverse_list[::-1])\n",
        "\n",
        "  "
      ],
      "execution_count": null,
      "outputs": []
    },
    {
      "cell_type": "code",
      "metadata": {
        "id": "xOc8Dv6Ylwtp",
        "outputId": "48fb10d3-0e13-47c4-beaf-5fa614703615",
        "colab": {
          "base_uri": "https://localhost:8080/",
          "height": 35
        }
      },
      "source": [
        "b = \"Iam Meghana\"\n",
        "b.index(\"g\")\n",
        "b[8]"
      ],
      "execution_count": null,
      "outputs": [
        {
          "output_type": "execute_result",
          "data": {
            "application/vnd.google.colaboratory.intrinsic": {
              "type": "string"
            },
            "text/plain": [
              "'a'"
            ]
          },
          "metadata": {
            "tags": []
          },
          "execution_count": 31
        }
      ]
    },
    {
      "cell_type": "code",
      "metadata": {
        "id": "JYt3sf5VlwyU",
        "outputId": "f5b69ada-83ab-49ff-f785-3a32ec3641d3",
        "colab": {
          "base_uri": "https://localhost:8080/",
          "height": 35
        }
      },
      "source": [
        "reverse_sentence(\" Hello      how are you all\")\n"
      ],
      "execution_count": null,
      "outputs": [
        {
          "output_type": "execute_result",
          "data": {
            "application/vnd.google.colaboratory.intrinsic": {
              "type": "string"
            },
            "text/plain": [
              "'all you are how Hello'"
            ]
          },
          "metadata": {
            "tags": []
          },
          "execution_count": 72
        }
      ]
    },
    {
      "cell_type": "code",
      "metadata": {
        "id": "Mn9sjN7Flw3L"
      },
      "source": [
        "def isbalanced(s):\n",
        "  balance = {\"[\":\"]\", \"{\":\"}\", \"(\":\")\"}\n",
        "  for l in s:\n",
        "    if s[s.index(l) + 1] == balance[l]:\n",
        "      s.replace(l,\"\")\n",
        "      s.replace(s[s.index(l) + 1],\"\")\n",
        "      if len(s) == 0:\n",
        "        return True\n",
        "      \n",
        "    else:\n",
        "      return False\n",
        "\n"
      ],
      "execution_count": null,
      "outputs": []
    },
    {
      "cell_type": "code",
      "metadata": {
        "id": "qqXuYZVFlw5u",
        "outputId": "37a16a40-10ca-4e26-ff00-74d6ce3efbca",
        "colab": {
          "base_uri": "https://localhost:8080/",
          "height": 279
        }
      },
      "source": [
        "isbalanced(\"[]{}()\")"
      ],
      "execution_count": null,
      "outputs": [
        {
          "output_type": "error",
          "ename": "KeyError",
          "evalue": "ignored",
          "traceback": [
            "\u001b[0;31m---------------------------------------------------------------------------\u001b[0m",
            "\u001b[0;31mKeyError\u001b[0m                                  Traceback (most recent call last)",
            "\u001b[0;32m<ipython-input-21-cc7824c63eb0>\u001b[0m in \u001b[0;36m<module>\u001b[0;34m()\u001b[0m\n\u001b[0;32m----> 1\u001b[0;31m \u001b[0misbalanced\u001b[0m\u001b[0;34m(\u001b[0m\u001b[0;34m\"[]{}()\"\u001b[0m\u001b[0;34m)\u001b[0m\u001b[0;34m\u001b[0m\u001b[0;34m\u001b[0m\u001b[0m\n\u001b[0m",
            "\u001b[0;32m<ipython-input-20-0e878132cf84>\u001b[0m in \u001b[0;36misbalanced\u001b[0;34m(s)\u001b[0m\n\u001b[1;32m      2\u001b[0m   \u001b[0mbalance\u001b[0m \u001b[0;34m=\u001b[0m \u001b[0;34m{\u001b[0m\u001b[0;34m\"[\"\u001b[0m\u001b[0;34m:\u001b[0m\u001b[0;34m\"]\"\u001b[0m\u001b[0;34m,\u001b[0m \u001b[0;34m\"{\"\u001b[0m\u001b[0;34m:\u001b[0m\u001b[0;34m\"}\"\u001b[0m\u001b[0;34m,\u001b[0m \u001b[0;34m\"(\"\u001b[0m\u001b[0;34m:\u001b[0m\u001b[0;34m\")\"\u001b[0m\u001b[0;34m}\u001b[0m\u001b[0;34m\u001b[0m\u001b[0;34m\u001b[0m\u001b[0m\n\u001b[1;32m      3\u001b[0m   \u001b[0;32mfor\u001b[0m \u001b[0ml\u001b[0m \u001b[0;32min\u001b[0m \u001b[0ms\u001b[0m\u001b[0;34m:\u001b[0m\u001b[0;34m\u001b[0m\u001b[0;34m\u001b[0m\u001b[0m\n\u001b[0;32m----> 4\u001b[0;31m     \u001b[0;32mif\u001b[0m \u001b[0ms\u001b[0m\u001b[0;34m[\u001b[0m\u001b[0ms\u001b[0m\u001b[0;34m.\u001b[0m\u001b[0mindex\u001b[0m\u001b[0;34m(\u001b[0m\u001b[0ml\u001b[0m\u001b[0;34m)\u001b[0m \u001b[0;34m+\u001b[0m \u001b[0;36m1\u001b[0m\u001b[0;34m]\u001b[0m \u001b[0;34m==\u001b[0m \u001b[0mbalance\u001b[0m\u001b[0;34m[\u001b[0m\u001b[0ml\u001b[0m\u001b[0;34m]\u001b[0m\u001b[0;34m:\u001b[0m\u001b[0;34m\u001b[0m\u001b[0;34m\u001b[0m\u001b[0m\n\u001b[0m\u001b[1;32m      5\u001b[0m       \u001b[0ms\u001b[0m\u001b[0;34m.\u001b[0m\u001b[0mreplace\u001b[0m\u001b[0;34m(\u001b[0m\u001b[0ml\u001b[0m\u001b[0;34m,\u001b[0m\u001b[0;34m\"\"\u001b[0m\u001b[0;34m)\u001b[0m\u001b[0;34m\u001b[0m\u001b[0;34m\u001b[0m\u001b[0m\n\u001b[1;32m      6\u001b[0m       \u001b[0ms\u001b[0m\u001b[0;34m.\u001b[0m\u001b[0mreplace\u001b[0m\u001b[0;34m(\u001b[0m\u001b[0ms\u001b[0m\u001b[0;34m[\u001b[0m\u001b[0ms\u001b[0m\u001b[0;34m.\u001b[0m\u001b[0mindex\u001b[0m\u001b[0;34m(\u001b[0m\u001b[0ml\u001b[0m\u001b[0;34m)\u001b[0m \u001b[0;34m+\u001b[0m \u001b[0;36m1\u001b[0m\u001b[0;34m]\u001b[0m\u001b[0;34m,\u001b[0m\u001b[0;34m\"\"\u001b[0m\u001b[0;34m)\u001b[0m\u001b[0;34m\u001b[0m\u001b[0;34m\u001b[0m\u001b[0m\n",
            "\u001b[0;31mKeyError\u001b[0m: ']'"
          ]
        }
      ]
    },
    {
      "cell_type": "code",
      "metadata": {
        "id": "4JTeGs1Tlw9W",
        "outputId": "66c14db7-35a9-4099-ab71-91d1450ccfd2",
        "colab": {
          "base_uri": "https://localhost:8080/",
          "height": 34
        }
      },
      "source": [
        "s = \"[]{}()\"\n",
        "balance = {\"[\":\"]\", \"{\":\"}\", \"(\":\")\"}\n",
        "l ='['\n",
        "if s[s.index(l) + 1] == balance[l]:\n",
        "\n",
        "  print(\"Hi\")"
      ],
      "execution_count": null,
      "outputs": [
        {
          "output_type": "stream",
          "text": [
            "Hi\n"
          ],
          "name": "stdout"
        }
      ]
    },
    {
      "cell_type": "code",
      "metadata": {
        "id": "9mtcowFqlw1N",
        "outputId": "96f3cc8c-b8d6-4314-b7f8-959e09e9fd81",
        "colab": {
          "base_uri": "https://localhost:8080/",
          "height": 35
        }
      },
      "source": [
        "balance = {\"[\":\"]\", \"{\":\"}\", \"(\":\")\"}\n",
        "balance[\"[\"]"
      ],
      "execution_count": null,
      "outputs": [
        {
          "output_type": "execute_result",
          "data": {
            "application/vnd.google.colaboratory.intrinsic": {
              "type": "string"
            },
            "text/plain": [
              "']'"
            ]
          },
          "metadata": {
            "tags": []
          },
          "execution_count": 22
        }
      ]
    },
    {
      "cell_type": "code",
      "metadata": {
        "id": "0bRN-Kyr6foU"
      },
      "source": [
        "class Que(object):\n",
        "  def __init__(self):\n",
        "    self.stack1 = []\n",
        "    self.stack2 = []\n",
        "  def enque(self,element):\n",
        "    self.stack1.append(element)\n",
        "  def deque(self):\n",
        "    self.stack2 = self.stack1[::-1]\n",
        "    self.stack2.pop()\n",
        "    self.stack1 = self.stack2[::-1]\n"
      ],
      "execution_count": null,
      "outputs": []
    },
    {
      "cell_type": "code",
      "metadata": {
        "id": "esxO1Exx-KQ0",
        "outputId": "bbb15699-99d8-4a52-b7e9-a5666e0a4472",
        "colab": {
          "base_uri": "https://localhost:8080/",
          "height": 34
        }
      },
      "source": [
        "lis = [1,2,3,4]\n",
        "rever = lis[::-1]\n",
        "rever"
      ],
      "execution_count": null,
      "outputs": [
        {
          "output_type": "execute_result",
          "data": {
            "text/plain": [
              "[4, 3, 2, 1]"
            ]
          },
          "metadata": {
            "tags": []
          },
          "execution_count": 1
        }
      ]
    },
    {
      "cell_type": "code",
      "metadata": {
        "id": "nIi27Gglnlnf"
      },
      "source": [
        "class Node(object):\n",
        "  def __init__(self, value):\n",
        "    self.value = value\n",
        "    self.nextlink = None\n",
        "   \n",
        "    "
      ],
      "execution_count": null,
      "outputs": []
    },
    {
      "cell_type": "code",
      "metadata": {
        "id": "WdycEqqHnl0n"
      },
      "source": [
        "a = Node(1)\n",
        "b = Node(2)\n",
        "c = Node(3)\n",
        "a.nextlink = b\n",
        "b.nextlink = c\n",
        "c.nextlink = a\n"
      ],
      "execution_count": null,
      "outputs": []
    },
    {
      "cell_type": "code",
      "metadata": {
        "id": "NgXMOmk3qJzk"
      },
      "source": [
        "def is_cycle(Node):\n",
        "    return Node.nextlink == None "
      ],
      "execution_count": null,
      "outputs": []
    },
    {
      "cell_type": "code",
      "metadata": {
        "id": "E301es7Ynl7-"
      },
      "source": [
        "def reverse(node):\n",
        "  current = node\n",
        "  while True:\n",
        "    current = current.nextnode\n",
        "    if current == None:\n",
        "       head = current\n",
        "       break\n",
        "  current = node\n",
        "  new = head\n",
        "  while True:\n",
        "    current = current.nextnode\n",
        "    if current == new:\n",
        "      new.nextnode = current\n",
        "      new = new.nextnode\n",
        "  \n",
        "         \n",
        "\n"
      ],
      "execution_count": null,
      "outputs": []
    },
    {
      "cell_type": "code",
      "metadata": {
        "id": "KUyQZ-ubnmAl"
      },
      "source": [
        "def recur_sum(n):\n",
        "  sum = 0\n",
        "  if n > 0:\n",
        "    sum = n + recur_sum(n-1)\n",
        "  return sum"
      ],
      "execution_count": null,
      "outputs": []
    },
    {
      "cell_type": "code",
      "metadata": {
        "id": "j4awlYUZnmON",
        "outputId": "10998f9c-c652-4a34-deb3-246b3665462a",
        "colab": {
          "base_uri": "https://localhost:8080/",
          "height": 34
        }
      },
      "source": [
        "recur_sum(8)"
      ],
      "execution_count": null,
      "outputs": [
        {
          "output_type": "execute_result",
          "data": {
            "text/plain": [
              "36"
            ]
          },
          "metadata": {
            "tags": []
          },
          "execution_count": 7
        }
      ]
    },
    {
      "cell_type": "code",
      "metadata": {
        "id": "mE95Lje_ZCy-"
      },
      "source": [
        "def recur_digitsum(n):\n",
        "  digit = n % 10\n",
        "  if n // 10 == 0:\n",
        "    return n\n",
        "  if n > 0:\n",
        "    return digit + recur_digitsum(n//10)\n"
      ],
      "execution_count": null,
      "outputs": []
    },
    {
      "cell_type": "code",
      "metadata": {
        "id": "yHVls-c7nmWa",
        "outputId": "ec40e226-d482-4187-9198-1dd880794ea1",
        "colab": {
          "base_uri": "https://localhost:8080/",
          "height": 34
        }
      },
      "source": [
        "recur_digitsum(0)"
      ],
      "execution_count": null,
      "outputs": [
        {
          "output_type": "execute_result",
          "data": {
            "text/plain": [
              "0"
            ]
          },
          "metadata": {
            "tags": []
          },
          "execution_count": 27
        }
      ]
    },
    {
      "cell_type": "code",
      "metadata": {
        "id": "lTn-7Osknma5"
      },
      "source": [
        "def recur_split(sen,words):\n",
        "  n = len(words[0])\n",
        "  if len(sen) == 0 and len(words) == 0:\n",
        "      return True\n",
        "  else:\n",
        "    main = (sen[0:n] == words[0]) \n",
        "    if main:\n",
        "      words.pop(0)\n",
        "      recur_split(sen[n:],words)\n",
        "    else:\n",
        "      return False  \n",
        "    return main"
      ],
      "execution_count": null,
      "outputs": []
    },
    {
      "cell_type": "code",
      "metadata": {
        "id": "vsyCfiQinmUJ",
        "outputId": "8510e2f8-6063-4a52-e367-c38ea6f1dadf",
        "colab": {
          "base_uri": "https://localhost:8080/",
          "height": 34
        }
      },
      "source": [
        "recur_split(\"hellohowareou\",[\"hello\",\"how\",\"are\",\"you\"])"
      ],
      "execution_count": null,
      "outputs": [
        {
          "output_type": "execute_result",
          "data": {
            "text/plain": [
              "True"
            ]
          },
          "metadata": {
            "tags": []
          },
          "execution_count": 59
        }
      ]
    },
    {
      "cell_type": "code",
      "metadata": {
        "id": "D0oeCOKRnmRx",
        "outputId": "ed5f1127-f8fa-46c2-c943-9ae0b524abad",
        "colab": {
          "base_uri": "https://localhost:8080/",
          "height": 35
        }
      },
      "source": [
        "a = [\"hello\",\"how\",\"are\",\"you\"]\n",
        "\n",
        "a.pop(0)\n",
        "sen = \"hellohowareyou\"\n",
        "sen[14:]"
      ],
      "execution_count": null,
      "outputs": [
        {
          "output_type": "execute_result",
          "data": {
            "application/vnd.google.colaboratory.intrinsic": {
              "type": "string"
            },
            "text/plain": [
              "''"
            ]
          },
          "metadata": {
            "tags": []
          },
          "execution_count": 57
        }
      ]
    },
    {
      "cell_type": "markdown",
      "metadata": {
        "id": "jI1NY3_6lrwC"
      },
      "source": [
        ""
      ]
    },
    {
      "cell_type": "code",
      "metadata": {
        "id": "oE2T_ZhElsK1"
      },
      "source": [
        "def split_words(phr,words):\n",
        "  lis = []\n",
        "  for word in words:\n",
        "    if word in phr:\n",
        "      lis.append(word)\n",
        "  \n",
        "  if lis.join(\"\") == phr:\n"
      ],
      "execution_count": null,
      "outputs": []
    },
    {
      "cell_type": "code",
      "metadata": {
        "id": "8gIATFrTevXB"
      },
      "source": [
        "def a(*baree):\n",
        "    print(baree)"
      ],
      "execution_count": null,
      "outputs": []
    },
    {
      "cell_type": "code",
      "metadata": {
        "id": "C7mB9qGDltn4"
      },
      "source": [
        ""
      ],
      "execution_count": null,
      "outputs": []
    },
    {
      "cell_type": "code",
      "metadata": {
        "id": "3uAyh6B4e7Lq",
        "outputId": "5b09a74f-a998-4be6-d3d8-cbfe90265656",
        "colab": {
          "base_uri": "https://localhost:8080/",
          "height": 34
        }
      },
      "source": [
        "a(2,3)"
      ],
      "execution_count": null,
      "outputs": [
        {
          "output_type": "stream",
          "text": [
            "(2, 3)\n"
          ],
          "name": "stdout"
        }
      ]
    },
    {
      "cell_type": "code",
      "metadata": {
        "id": "a9WNkPayjI_r"
      },
      "source": [
        "def reverse_str(a):\n",
        "  if len(a) == 0:\n",
        "    return \"\"\n",
        "  else :\n",
        "    return a[-1] + reverse_str(a[:-1])\n"
      ],
      "execution_count": null,
      "outputs": []
    },
    {
      "cell_type": "code",
      "metadata": {
        "id": "VZ6mtCDok2yH",
        "outputId": "e085e68d-f2f2-4877-c6c1-93faaf4d5252",
        "colab": {
          "base_uri": "https://localhost:8080/",
          "height": 35
        }
      },
      "source": [
        "reverse_str(\"Sai Meghana\")"
      ],
      "execution_count": null,
      "outputs": [
        {
          "output_type": "execute_result",
          "data": {
            "application/vnd.google.colaboratory.intrinsic": {
              "type": "string"
            },
            "text/plain": [
              "'anahgeM iaS'"
            ]
          },
          "metadata": {
            "tags": []
          },
          "execution_count": 27
        }
      ]
    },
    {
      "cell_type": "code",
      "metadata": {
        "id": "TgSMUvUKlUNV"
      },
      "source": [
        "factorial_memo = {}\n",
        "\n",
        "def factorial(k):\n",
        "    \n",
        "    if k < 2: \n",
        "        return 1\n",
        "    \n",
        "    if not k in factorial_memo:\n",
        "        factorial_memo[k] = k * factorial(k-1)\n",
        "        \n",
        "    return factorial_memo[k]"
      ],
      "execution_count": null,
      "outputs": []
    },
    {
      "cell_type": "code",
      "metadata": {
        "id": "UaitzzvbzobI"
      },
      "source": [
        "final = []\n",
        "def permutation(word):\n",
        "  if len(word) == 1:\n",
        "    return word\n",
        "  else:\n",
        "    for let in word:\n",
        "      x = word.index(let)\n",
        "      updated = word.replace(let,\"\")\n",
        "      print(\"word[x]\"+word[x])\n",
        "      print(\"updated\"+updated)\n",
        "      dfgdfg=permutation(updated)\n",
        "      print(\"permutation(updated)\"+dfgdfg)\n",
        "      print()\n",
        "  return final.append(word[x] + dfgdfg)\n",
        "\n"
      ],
      "execution_count": null,
      "outputs": []
    },
    {
      "cell_type": "code",
      "metadata": {
        "id": "d1KoLWyrzo0K",
        "outputId": "17c04fa9-6e73-4272-c92c-57df2911fe86",
        "colab": {
          "base_uri": "https://localhost:8080/",
          "height": 447
        }
      },
      "source": [
        "permutation(\"abc\")"
      ],
      "execution_count": null,
      "outputs": [
        {
          "output_type": "stream",
          "text": [
            "word[x]a\n",
            "updatedbc\n",
            "word[x]b\n",
            "updatedc\n",
            "permutation(updated)c\n",
            "\n",
            "word[x]c\n",
            "updatedb\n",
            "permutation(updated)b\n",
            "\n"
          ],
          "name": "stdout"
        },
        {
          "output_type": "error",
          "ename": "TypeError",
          "evalue": "ignored",
          "traceback": [
            "\u001b[0;31m---------------------------------------------------------------------------\u001b[0m",
            "\u001b[0;31mTypeError\u001b[0m                                 Traceback (most recent call last)",
            "\u001b[0;32m<ipython-input-48-434f89287584>\u001b[0m in \u001b[0;36m<module>\u001b[0;34m()\u001b[0m\n\u001b[0;32m----> 1\u001b[0;31m \u001b[0mpermutation\u001b[0m\u001b[0;34m(\u001b[0m\u001b[0;34m\"abc\"\u001b[0m\u001b[0;34m)\u001b[0m\u001b[0;34m\u001b[0m\u001b[0;34m\u001b[0m\u001b[0m\n\u001b[0m",
            "\u001b[0;32m<ipython-input-47-3cdbfc5ed020>\u001b[0m in \u001b[0;36mpermutation\u001b[0;34m(word)\u001b[0m\n\u001b[1;32m     10\u001b[0m       \u001b[0mprint\u001b[0m\u001b[0;34m(\u001b[0m\u001b[0;34m\"updated\"\u001b[0m\u001b[0;34m+\u001b[0m\u001b[0mupdated\u001b[0m\u001b[0;34m)\u001b[0m\u001b[0;34m\u001b[0m\u001b[0;34m\u001b[0m\u001b[0m\n\u001b[1;32m     11\u001b[0m       \u001b[0mdfgdfg\u001b[0m\u001b[0;34m=\u001b[0m\u001b[0mpermutation\u001b[0m\u001b[0;34m(\u001b[0m\u001b[0mupdated\u001b[0m\u001b[0;34m)\u001b[0m\u001b[0;34m\u001b[0m\u001b[0;34m\u001b[0m\u001b[0m\n\u001b[0;32m---> 12\u001b[0;31m       \u001b[0mprint\u001b[0m\u001b[0;34m(\u001b[0m\u001b[0;34m\"permutation(updated)\"\u001b[0m\u001b[0;34m+\u001b[0m\u001b[0mdfgdfg\u001b[0m\u001b[0;34m)\u001b[0m\u001b[0;34m\u001b[0m\u001b[0;34m\u001b[0m\u001b[0m\n\u001b[0m\u001b[1;32m     13\u001b[0m       \u001b[0mprint\u001b[0m\u001b[0;34m(\u001b[0m\u001b[0;34m)\u001b[0m\u001b[0;34m\u001b[0m\u001b[0;34m\u001b[0m\u001b[0m\n\u001b[1;32m     14\u001b[0m   \u001b[0;32mreturn\u001b[0m \u001b[0mfinal\u001b[0m\u001b[0;34m.\u001b[0m\u001b[0mappend\u001b[0m\u001b[0;34m(\u001b[0m\u001b[0mword\u001b[0m\u001b[0;34m[\u001b[0m\u001b[0mx\u001b[0m\u001b[0;34m]\u001b[0m \u001b[0;34m+\u001b[0m \u001b[0mdfgdfg\u001b[0m\u001b[0;34m)\u001b[0m\u001b[0;34m\u001b[0m\u001b[0;34m\u001b[0m\u001b[0m\n",
            "\u001b[0;31mTypeError\u001b[0m: must be str, not NoneType"
          ]
        }
      ]
    },
    {
      "cell_type": "code",
      "metadata": {
        "id": "7aenhE0flwQD"
      },
      "source": [
        "memoise =  {0:0,1:1}\n",
        "def fibonacci(n):\n",
        "    if n in memoise:\n",
        "      return memoise[n]\n",
        "    else:\n",
        "      memoise[n] = fibonacci(n-1) + fibonacci(n-2)\n",
        "      return fibonacci(n-1) + fibonacci(n-2)"
      ],
      "execution_count": null,
      "outputs": []
    },
    {
      "cell_type": "code",
      "metadata": {
        "id": "cYMQ6G4onqet",
        "outputId": "062a5134-debd-4f10-c82b-afed8b761eea",
        "colab": {
          "base_uri": "https://localhost:8080/",
          "height": 185
        }
      },
      "source": [
        "fibonacci(10)"
      ],
      "execution_count": null,
      "outputs": [
        {
          "output_type": "stream",
          "text": [
            "{0: 0, 1: 1, 2: 1}\n",
            "{0: 0, 1: 1, 2: 1, 3: 2}\n",
            "{0: 0, 1: 1, 2: 1, 3: 2, 4: 3}\n",
            "{0: 0, 1: 1, 2: 1, 3: 2, 4: 3, 5: 5}\n",
            "{0: 0, 1: 1, 2: 1, 3: 2, 4: 3, 5: 5, 6: 8}\n",
            "{0: 0, 1: 1, 2: 1, 3: 2, 4: 3, 5: 5, 6: 8, 7: 13}\n",
            "{0: 0, 1: 1, 2: 1, 3: 2, 4: 3, 5: 5, 6: 8, 7: 13, 8: 21}\n",
            "{0: 0, 1: 1, 2: 1, 3: 2, 4: 3, 5: 5, 6: 8, 7: 13, 8: 21, 9: 34}\n",
            "{0: 0, 1: 1, 2: 1, 3: 2, 4: 3, 5: 5, 6: 8, 7: 13, 8: 21, 9: 34, 10: 55}\n"
          ],
          "name": "stdout"
        },
        {
          "output_type": "execute_result",
          "data": {
            "text/plain": [
              "55"
            ]
          },
          "metadata": {
            "tags": []
          },
          "execution_count": 36
        }
      ]
    },
    {
      "cell_type": "code",
      "metadata": {
        "id": "RhXG4Tae0yMr"
      },
      "source": [
        "num = 0\n",
        "def least_coins(amount):\n",
        "\tglobal num\n",
        "\tcoins = [1,5]\n",
        "\tif amount in coins:\n",
        "\t\treturn 1 + least_coins(num)\n",
        "\telse :\n",
        "\t\tnum += 1\n",
        "\t\tamount -= 1\n",
        "\t\treturn least_coins(amount)\n",
        "\n",
        "\t"
      ],
      "execution_count": null,
      "outputs": []
    },
    {
      "cell_type": "code",
      "metadata": {
        "id": "PrrTYXKN007M",
        "outputId": "6ba3ad26-680a-4e8a-ed41-dc2fefe2b436",
        "colab": {
          "base_uri": "https://localhost:8080/",
          "height": 337
        }
      },
      "source": [
        "least_coins(10)"
      ],
      "execution_count": null,
      "outputs": [
        {
          "output_type": "error",
          "ename": "RecursionError",
          "evalue": "ignored",
          "traceback": [
            "\u001b[0;31m---------------------------------------------------------------------------\u001b[0m",
            "\u001b[0;31mRecursionError\u001b[0m                            Traceback (most recent call last)",
            "\u001b[0;32m<ipython-input-55-45fbde82dabb>\u001b[0m in \u001b[0;36m<module>\u001b[0;34m()\u001b[0m\n\u001b[0;32m----> 1\u001b[0;31m \u001b[0mleast_coins\u001b[0m\u001b[0;34m(\u001b[0m\u001b[0;36m10\u001b[0m\u001b[0;34m)\u001b[0m\u001b[0;34m\u001b[0m\u001b[0;34m\u001b[0m\u001b[0m\n\u001b[0m",
            "\u001b[0;32m<ipython-input-54-9b18434e8f45>\u001b[0m in \u001b[0;36mleast_coins\u001b[0;34m(amount)\u001b[0m\n\u001b[1;32m     10\u001b[0m                 \u001b[0mnum\u001b[0m \u001b[0;34m+=\u001b[0m \u001b[0;36m1\u001b[0m\u001b[0;34m\u001b[0m\u001b[0;34m\u001b[0m\u001b[0m\n\u001b[1;32m     11\u001b[0m                 \u001b[0mamount\u001b[0m \u001b[0;34m-=\u001b[0m \u001b[0;36m1\u001b[0m\u001b[0;34m\u001b[0m\u001b[0;34m\u001b[0m\u001b[0m\n\u001b[0;32m---> 12\u001b[0;31m                 \u001b[0;32mreturn\u001b[0m \u001b[0mleast_coins\u001b[0m\u001b[0;34m(\u001b[0m\u001b[0mamount\u001b[0m\u001b[0;34m)\u001b[0m\u001b[0;34m\u001b[0m\u001b[0;34m\u001b[0m\u001b[0m\n\u001b[0m\u001b[1;32m     13\u001b[0m \u001b[0;34m\u001b[0m\u001b[0m\n\u001b[1;32m     14\u001b[0m \u001b[0;34m\u001b[0m\u001b[0m\n",
            "\u001b[0;32m<ipython-input-54-9b18434e8f45>\u001b[0m in \u001b[0;36mleast_coins\u001b[0;34m(amount)\u001b[0m\n\u001b[1;32m      4\u001b[0m         \u001b[0mcoins\u001b[0m \u001b[0;34m=\u001b[0m \u001b[0;34m[\u001b[0m\u001b[0;36m1\u001b[0m\u001b[0;34m,\u001b[0m\u001b[0;36m5\u001b[0m\u001b[0;34m]\u001b[0m\u001b[0;34m\u001b[0m\u001b[0;34m\u001b[0m\u001b[0m\n\u001b[1;32m      5\u001b[0m         \u001b[0;32mif\u001b[0m \u001b[0mnum\u001b[0m \u001b[0;32min\u001b[0m \u001b[0mcoins\u001b[0m\u001b[0;34m:\u001b[0m\u001b[0;34m\u001b[0m\u001b[0;34m\u001b[0m\u001b[0m\n\u001b[0;32m----> 6\u001b[0;31m                 \u001b[0;32mreturn\u001b[0m \u001b[0;36m1\u001b[0m \u001b[0;34m+\u001b[0m \u001b[0mleast_coins\u001b[0m\u001b[0;34m(\u001b[0m\u001b[0mnum\u001b[0m\u001b[0;34m)\u001b[0m\u001b[0;34m\u001b[0m\u001b[0;34m\u001b[0m\u001b[0m\n\u001b[0m\u001b[1;32m      7\u001b[0m         \u001b[0;32mif\u001b[0m \u001b[0mamount\u001b[0m \u001b[0;32min\u001b[0m \u001b[0mcoins\u001b[0m\u001b[0;34m:\u001b[0m\u001b[0;34m\u001b[0m\u001b[0;34m\u001b[0m\u001b[0m\n\u001b[1;32m      8\u001b[0m                 \u001b[0;32mreturn\u001b[0m \u001b[0;36m1\u001b[0m \u001b[0;34m+\u001b[0m \u001b[0mleast_coins\u001b[0m\u001b[0;34m(\u001b[0m\u001b[0mnum\u001b[0m\u001b[0;34m)\u001b[0m\u001b[0;34m\u001b[0m\u001b[0;34m\u001b[0m\u001b[0m\n",
            "... last 1 frames repeated, from the frame below ...\n",
            "\u001b[0;32m<ipython-input-54-9b18434e8f45>\u001b[0m in \u001b[0;36mleast_coins\u001b[0;34m(amount)\u001b[0m\n\u001b[1;32m      4\u001b[0m         \u001b[0mcoins\u001b[0m \u001b[0;34m=\u001b[0m \u001b[0;34m[\u001b[0m\u001b[0;36m1\u001b[0m\u001b[0;34m,\u001b[0m\u001b[0;36m5\u001b[0m\u001b[0;34m]\u001b[0m\u001b[0;34m\u001b[0m\u001b[0;34m\u001b[0m\u001b[0m\n\u001b[1;32m      5\u001b[0m         \u001b[0;32mif\u001b[0m \u001b[0mnum\u001b[0m \u001b[0;32min\u001b[0m \u001b[0mcoins\u001b[0m\u001b[0;34m:\u001b[0m\u001b[0;34m\u001b[0m\u001b[0;34m\u001b[0m\u001b[0m\n\u001b[0;32m----> 6\u001b[0;31m                 \u001b[0;32mreturn\u001b[0m \u001b[0;36m1\u001b[0m \u001b[0;34m+\u001b[0m \u001b[0mleast_coins\u001b[0m\u001b[0;34m(\u001b[0m\u001b[0mnum\u001b[0m\u001b[0;34m)\u001b[0m\u001b[0;34m\u001b[0m\u001b[0;34m\u001b[0m\u001b[0m\n\u001b[0m\u001b[1;32m      7\u001b[0m         \u001b[0;32mif\u001b[0m \u001b[0mamount\u001b[0m \u001b[0;32min\u001b[0m \u001b[0mcoins\u001b[0m\u001b[0;34m:\u001b[0m\u001b[0;34m\u001b[0m\u001b[0;34m\u001b[0m\u001b[0m\n\u001b[1;32m      8\u001b[0m                 \u001b[0;32mreturn\u001b[0m \u001b[0;36m1\u001b[0m \u001b[0;34m+\u001b[0m \u001b[0mleast_coins\u001b[0m\u001b[0;34m(\u001b[0m\u001b[0mnum\u001b[0m\u001b[0;34m)\u001b[0m\u001b[0;34m\u001b[0m\u001b[0;34m\u001b[0m\u001b[0m\n",
            "\u001b[0;31mRecursionError\u001b[0m: maximum recursion depth exceeded"
          ]
        }
      ]
    },
    {
      "cell_type": "code",
      "metadata": {
        "id": "4ZxV7J5L01Li"
      },
      "source": [
        "def count_coins(amount,coins):\n",
        "  coins = [i for i in coins if i <= amount]\n",
        "  if len(coins) == 0:\n",
        "    return 0\n",
        "  diff = amount - max(coins)\n",
        "  if diff == 0:\n",
        "    return 1\n",
        "  else:\n",
        "    return 1 + count_coins(diff,coins)"
      ],
      "execution_count": null,
      "outputs": []
    },
    {
      "cell_type": "code",
      "metadata": {
        "id": "GWFGCmcg01Ue",
        "outputId": "f04fba16-7f72-4b57-c7a6-940b54f79945",
        "colab": {
          "base_uri": "https://localhost:8080/",
          "height": 34
        }
      },
      "source": [
        "coins = [3]\n",
        "count_coins(4,coins)"
      ],
      "execution_count": null,
      "outputs": [
        {
          "output_type": "execute_result",
          "data": {
            "text/plain": [
              "1"
            ]
          },
          "metadata": {
            "tags": []
          },
          "execution_count": 24
        }
      ]
    },
    {
      "cell_type": "code",
      "metadata": {
        "id": "BPy_dCBy01RQ",
        "outputId": "935eed03-ef06-4109-d005-50a722d5e450",
        "colab": {
          "base_uri": "https://localhost:8080/",
          "height": 34
        }
      },
      "source": [
        "max([1,3,5])"
      ],
      "execution_count": null,
      "outputs": [
        {
          "output_type": "execute_result",
          "data": {
            "text/plain": [
              "5"
            ]
          },
          "metadata": {
            "tags": []
          },
          "execution_count": 3
        }
      ]
    },
    {
      "cell_type": "code",
      "metadata": {
        "id": "LXZmwq1m01PK",
        "outputId": "7bca1ad8-9999-4165-e5d3-6cfa274cb527",
        "colab": {
          "base_uri": "https://localhost:8080/",
          "height": 34
        }
      },
      "source": [
        "coins = [1,2,4,7]\n",
        "amount = 5\n",
        "coins = [i for i in coins if i < amount]\n",
        "coins\n",
        "diff = amount - max(coins)\n",
        "diff"
      ],
      "execution_count": null,
      "outputs": [
        {
          "output_type": "execute_result",
          "data": {
            "text/plain": [
              "1"
            ]
          },
          "metadata": {
            "tags": []
          },
          "execution_count": 9
        }
      ]
    },
    {
      "cell_type": "code",
      "metadata": {
        "id": "-_y_TKuxMK56"
      },
      "source": [
        "def permutations(word):\n",
        "  result=[]\n",
        "  if len(word) == 1:\n",
        "    result.append(word)\n",
        "  else:\n",
        "    for i in word:\n",
        "      temp = word.replace(i,\"\")\n",
        "      q = permutations(temp)\n",
        "      for e in q:\n",
        "        # print(i,e)\n",
        "        e = i + e\n",
        "        # print([i for i in q])\n",
        "      # a.append([i for i in q])\n",
        "        result.append(e)\n",
        "\n",
        "  return result"
      ],
      "execution_count": null,
      "outputs": []
    },
    {
      "cell_type": "code",
      "metadata": {
        "id": "XCSqh89MMLI9",
        "outputId": "ad27b734-8f2f-4656-c43a-c149d0aea0d5",
        "colab": {
          "base_uri": "https://localhost:8080/",
          "height": 1000
        }
      },
      "source": [
        "permutations(\"goutham\")"
      ],
      "execution_count": null,
      "outputs": [
        {
          "output_type": "execute_result",
          "data": {
            "text/plain": [
              "['goutham',\n",
              " 'gouthma',\n",
              " 'goutahm',\n",
              " 'goutamh',\n",
              " 'goutmha',\n",
              " 'goutmah',\n",
              " 'gouhtam',\n",
              " 'gouhtma',\n",
              " 'gouhatm',\n",
              " 'gouhamt',\n",
              " 'gouhmta',\n",
              " 'gouhmat',\n",
              " 'gouathm',\n",
              " 'gouatmh',\n",
              " 'gouahtm',\n",
              " 'gouahmt',\n",
              " 'gouamth',\n",
              " 'gouamht',\n",
              " 'goumtha',\n",
              " 'goumtah',\n",
              " 'goumhta',\n",
              " 'goumhat',\n",
              " 'goumath',\n",
              " 'goumaht',\n",
              " 'gotuham',\n",
              " 'gotuhma',\n",
              " 'gotuahm',\n",
              " 'gotuamh',\n",
              " 'gotumha',\n",
              " 'gotumah',\n",
              " 'gothuam',\n",
              " 'gothuma',\n",
              " 'gothaum',\n",
              " 'gothamu',\n",
              " 'gothmua',\n",
              " 'gothmau',\n",
              " 'gotauhm',\n",
              " 'gotaumh',\n",
              " 'gotahum',\n",
              " 'gotahmu',\n",
              " 'gotamuh',\n",
              " 'gotamhu',\n",
              " 'gotmuha',\n",
              " 'gotmuah',\n",
              " 'gotmhua',\n",
              " 'gotmhau',\n",
              " 'gotmauh',\n",
              " 'gotmahu',\n",
              " 'gohutam',\n",
              " 'gohutma',\n",
              " 'gohuatm',\n",
              " 'gohuamt',\n",
              " 'gohumta',\n",
              " 'gohumat',\n",
              " 'gohtuam',\n",
              " 'gohtuma',\n",
              " 'gohtaum',\n",
              " 'gohtamu',\n",
              " 'gohtmua',\n",
              " 'gohtmau',\n",
              " 'gohautm',\n",
              " 'gohaumt',\n",
              " 'gohatum',\n",
              " 'gohatmu',\n",
              " 'gohamut',\n",
              " 'gohamtu',\n",
              " 'gohmuta',\n",
              " 'gohmuat',\n",
              " 'gohmtua',\n",
              " 'gohmtau',\n",
              " 'gohmaut',\n",
              " 'gohmatu',\n",
              " 'goauthm',\n",
              " 'goautmh',\n",
              " 'goauhtm',\n",
              " 'goauhmt',\n",
              " 'goaumth',\n",
              " 'goaumht',\n",
              " 'goatuhm',\n",
              " 'goatumh',\n",
              " 'goathum',\n",
              " 'goathmu',\n",
              " 'goatmuh',\n",
              " 'goatmhu',\n",
              " 'goahutm',\n",
              " 'goahumt',\n",
              " 'goahtum',\n",
              " 'goahtmu',\n",
              " 'goahmut',\n",
              " 'goahmtu',\n",
              " 'goamuth',\n",
              " 'goamuht',\n",
              " 'goamtuh',\n",
              " 'goamthu',\n",
              " 'goamhut',\n",
              " 'goamhtu',\n",
              " 'gomutha',\n",
              " 'gomutah',\n",
              " 'gomuhta',\n",
              " 'gomuhat',\n",
              " 'gomuath',\n",
              " 'gomuaht',\n",
              " 'gomtuha',\n",
              " 'gomtuah',\n",
              " 'gomthua',\n",
              " 'gomthau',\n",
              " 'gomtauh',\n",
              " 'gomtahu',\n",
              " 'gomhuta',\n",
              " 'gomhuat',\n",
              " 'gomhtua',\n",
              " 'gomhtau',\n",
              " 'gomhaut',\n",
              " 'gomhatu',\n",
              " 'gomauth',\n",
              " 'gomauht',\n",
              " 'gomatuh',\n",
              " 'gomathu',\n",
              " 'gomahut',\n",
              " 'gomahtu',\n",
              " 'guotham',\n",
              " 'guothma',\n",
              " 'guotahm',\n",
              " 'guotamh',\n",
              " 'guotmha',\n",
              " 'guotmah',\n",
              " 'guohtam',\n",
              " 'guohtma',\n",
              " 'guohatm',\n",
              " 'guohamt',\n",
              " 'guohmta',\n",
              " 'guohmat',\n",
              " 'guoathm',\n",
              " 'guoatmh',\n",
              " 'guoahtm',\n",
              " 'guoahmt',\n",
              " 'guoamth',\n",
              " 'guoamht',\n",
              " 'guomtha',\n",
              " 'guomtah',\n",
              " 'guomhta',\n",
              " 'guomhat',\n",
              " 'guomath',\n",
              " 'guomaht',\n",
              " 'gutoham',\n",
              " 'gutohma',\n",
              " 'gutoahm',\n",
              " 'gutoamh',\n",
              " 'gutomha',\n",
              " 'gutomah',\n",
              " 'guthoam',\n",
              " 'guthoma',\n",
              " 'guthaom',\n",
              " 'guthamo',\n",
              " 'guthmoa',\n",
              " 'guthmao',\n",
              " 'gutaohm',\n",
              " 'gutaomh',\n",
              " 'gutahom',\n",
              " 'gutahmo',\n",
              " 'gutamoh',\n",
              " 'gutamho',\n",
              " 'gutmoha',\n",
              " 'gutmoah',\n",
              " 'gutmhoa',\n",
              " 'gutmhao',\n",
              " 'gutmaoh',\n",
              " 'gutmaho',\n",
              " 'guhotam',\n",
              " 'guhotma',\n",
              " 'guhoatm',\n",
              " 'guhoamt',\n",
              " 'guhomta',\n",
              " 'guhomat',\n",
              " 'guhtoam',\n",
              " 'guhtoma',\n",
              " 'guhtaom',\n",
              " 'guhtamo',\n",
              " 'guhtmoa',\n",
              " 'guhtmao',\n",
              " 'guhaotm',\n",
              " 'guhaomt',\n",
              " 'guhatom',\n",
              " 'guhatmo',\n",
              " 'guhamot',\n",
              " 'guhamto',\n",
              " 'guhmota',\n",
              " 'guhmoat',\n",
              " 'guhmtoa',\n",
              " 'guhmtao',\n",
              " 'guhmaot',\n",
              " 'guhmato',\n",
              " 'guaothm',\n",
              " 'guaotmh',\n",
              " 'guaohtm',\n",
              " 'guaohmt',\n",
              " 'guaomth',\n",
              " 'guaomht',\n",
              " 'guatohm',\n",
              " 'guatomh',\n",
              " 'guathom',\n",
              " 'guathmo',\n",
              " 'guatmoh',\n",
              " 'guatmho',\n",
              " 'guahotm',\n",
              " 'guahomt',\n",
              " 'guahtom',\n",
              " 'guahtmo',\n",
              " 'guahmot',\n",
              " 'guahmto',\n",
              " 'guamoth',\n",
              " 'guamoht',\n",
              " 'guamtoh',\n",
              " 'guamtho',\n",
              " 'guamhot',\n",
              " 'guamhto',\n",
              " 'gumotha',\n",
              " 'gumotah',\n",
              " 'gumohta',\n",
              " 'gumohat',\n",
              " 'gumoath',\n",
              " 'gumoaht',\n",
              " 'gumtoha',\n",
              " 'gumtoah',\n",
              " 'gumthoa',\n",
              " 'gumthao',\n",
              " 'gumtaoh',\n",
              " 'gumtaho',\n",
              " 'gumhota',\n",
              " 'gumhoat',\n",
              " 'gumhtoa',\n",
              " 'gumhtao',\n",
              " 'gumhaot',\n",
              " 'gumhato',\n",
              " 'gumaoth',\n",
              " 'gumaoht',\n",
              " 'gumatoh',\n",
              " 'gumatho',\n",
              " 'gumahot',\n",
              " 'gumahto',\n",
              " 'gtouham',\n",
              " 'gtouhma',\n",
              " 'gtouahm',\n",
              " 'gtouamh',\n",
              " 'gtoumha',\n",
              " 'gtoumah',\n",
              " 'gtohuam',\n",
              " 'gtohuma',\n",
              " 'gtohaum',\n",
              " 'gtohamu',\n",
              " 'gtohmua',\n",
              " 'gtohmau',\n",
              " 'gtoauhm',\n",
              " 'gtoaumh',\n",
              " 'gtoahum',\n",
              " 'gtoahmu',\n",
              " 'gtoamuh',\n",
              " 'gtoamhu',\n",
              " 'gtomuha',\n",
              " 'gtomuah',\n",
              " 'gtomhua',\n",
              " 'gtomhau',\n",
              " 'gtomauh',\n",
              " 'gtomahu',\n",
              " 'gtuoham',\n",
              " 'gtuohma',\n",
              " 'gtuoahm',\n",
              " 'gtuoamh',\n",
              " 'gtuomha',\n",
              " 'gtuomah',\n",
              " 'gtuhoam',\n",
              " 'gtuhoma',\n",
              " 'gtuhaom',\n",
              " 'gtuhamo',\n",
              " 'gtuhmoa',\n",
              " 'gtuhmao',\n",
              " 'gtuaohm',\n",
              " 'gtuaomh',\n",
              " 'gtuahom',\n",
              " 'gtuahmo',\n",
              " 'gtuamoh',\n",
              " 'gtuamho',\n",
              " 'gtumoha',\n",
              " 'gtumoah',\n",
              " 'gtumhoa',\n",
              " 'gtumhao',\n",
              " 'gtumaoh',\n",
              " 'gtumaho',\n",
              " 'gthouam',\n",
              " 'gthouma',\n",
              " 'gthoaum',\n",
              " 'gthoamu',\n",
              " 'gthomua',\n",
              " 'gthomau',\n",
              " 'gthuoam',\n",
              " 'gthuoma',\n",
              " 'gthuaom',\n",
              " 'gthuamo',\n",
              " 'gthumoa',\n",
              " 'gthumao',\n",
              " 'gthaoum',\n",
              " 'gthaomu',\n",
              " 'gthauom',\n",
              " 'gthaumo',\n",
              " 'gthamou',\n",
              " 'gthamuo',\n",
              " 'gthmoua',\n",
              " 'gthmoau',\n",
              " 'gthmuoa',\n",
              " 'gthmuao',\n",
              " 'gthmaou',\n",
              " 'gthmauo',\n",
              " 'gtaouhm',\n",
              " 'gtaoumh',\n",
              " 'gtaohum',\n",
              " 'gtaohmu',\n",
              " 'gtaomuh',\n",
              " 'gtaomhu',\n",
              " 'gtauohm',\n",
              " 'gtauomh',\n",
              " 'gtauhom',\n",
              " 'gtauhmo',\n",
              " 'gtaumoh',\n",
              " 'gtaumho',\n",
              " 'gtahoum',\n",
              " 'gtahomu',\n",
              " 'gtahuom',\n",
              " 'gtahumo',\n",
              " 'gtahmou',\n",
              " 'gtahmuo',\n",
              " 'gtamouh',\n",
              " 'gtamohu',\n",
              " 'gtamuoh',\n",
              " 'gtamuho',\n",
              " 'gtamhou',\n",
              " 'gtamhuo',\n",
              " 'gtmouha',\n",
              " 'gtmouah',\n",
              " 'gtmohua',\n",
              " 'gtmohau',\n",
              " 'gtmoauh',\n",
              " 'gtmoahu',\n",
              " 'gtmuoha',\n",
              " 'gtmuoah',\n",
              " 'gtmuhoa',\n",
              " 'gtmuhao',\n",
              " 'gtmuaoh',\n",
              " 'gtmuaho',\n",
              " 'gtmhoua',\n",
              " 'gtmhoau',\n",
              " 'gtmhuoa',\n",
              " 'gtmhuao',\n",
              " 'gtmhaou',\n",
              " 'gtmhauo',\n",
              " 'gtmaouh',\n",
              " 'gtmaohu',\n",
              " 'gtmauoh',\n",
              " 'gtmauho',\n",
              " 'gtmahou',\n",
              " 'gtmahuo',\n",
              " 'ghoutam',\n",
              " 'ghoutma',\n",
              " 'ghouatm',\n",
              " 'ghouamt',\n",
              " 'ghoumta',\n",
              " 'ghoumat',\n",
              " 'ghotuam',\n",
              " 'ghotuma',\n",
              " 'ghotaum',\n",
              " 'ghotamu',\n",
              " 'ghotmua',\n",
              " 'ghotmau',\n",
              " 'ghoautm',\n",
              " 'ghoaumt',\n",
              " 'ghoatum',\n",
              " 'ghoatmu',\n",
              " 'ghoamut',\n",
              " 'ghoamtu',\n",
              " 'ghomuta',\n",
              " 'ghomuat',\n",
              " 'ghomtua',\n",
              " 'ghomtau',\n",
              " 'ghomaut',\n",
              " 'ghomatu',\n",
              " 'ghuotam',\n",
              " 'ghuotma',\n",
              " 'ghuoatm',\n",
              " 'ghuoamt',\n",
              " 'ghuomta',\n",
              " 'ghuomat',\n",
              " 'ghutoam',\n",
              " 'ghutoma',\n",
              " 'ghutaom',\n",
              " 'ghutamo',\n",
              " 'ghutmoa',\n",
              " 'ghutmao',\n",
              " 'ghuaotm',\n",
              " 'ghuaomt',\n",
              " 'ghuatom',\n",
              " 'ghuatmo',\n",
              " 'ghuamot',\n",
              " 'ghuamto',\n",
              " 'ghumota',\n",
              " 'ghumoat',\n",
              " 'ghumtoa',\n",
              " 'ghumtao',\n",
              " 'ghumaot',\n",
              " 'ghumato',\n",
              " 'ghtouam',\n",
              " 'ghtouma',\n",
              " 'ghtoaum',\n",
              " 'ghtoamu',\n",
              " 'ghtomua',\n",
              " 'ghtomau',\n",
              " 'ghtuoam',\n",
              " 'ghtuoma',\n",
              " 'ghtuaom',\n",
              " 'ghtuamo',\n",
              " 'ghtumoa',\n",
              " 'ghtumao',\n",
              " 'ghtaoum',\n",
              " 'ghtaomu',\n",
              " 'ghtauom',\n",
              " 'ghtaumo',\n",
              " 'ghtamou',\n",
              " 'ghtamuo',\n",
              " 'ghtmoua',\n",
              " 'ghtmoau',\n",
              " 'ghtmuoa',\n",
              " 'ghtmuao',\n",
              " 'ghtmaou',\n",
              " 'ghtmauo',\n",
              " 'ghaoutm',\n",
              " 'ghaoumt',\n",
              " 'ghaotum',\n",
              " 'ghaotmu',\n",
              " 'ghaomut',\n",
              " 'ghaomtu',\n",
              " 'ghauotm',\n",
              " 'ghauomt',\n",
              " 'ghautom',\n",
              " 'ghautmo',\n",
              " 'ghaumot',\n",
              " 'ghaumto',\n",
              " 'ghatoum',\n",
              " 'ghatomu',\n",
              " 'ghatuom',\n",
              " 'ghatumo',\n",
              " 'ghatmou',\n",
              " 'ghatmuo',\n",
              " 'ghamout',\n",
              " 'ghamotu',\n",
              " 'ghamuot',\n",
              " 'ghamuto',\n",
              " 'ghamtou',\n",
              " 'ghamtuo',\n",
              " 'ghmouta',\n",
              " 'ghmouat',\n",
              " 'ghmotua',\n",
              " 'ghmotau',\n",
              " 'ghmoaut',\n",
              " 'ghmoatu',\n",
              " 'ghmuota',\n",
              " 'ghmuoat',\n",
              " 'ghmutoa',\n",
              " 'ghmutao',\n",
              " 'ghmuaot',\n",
              " 'ghmuato',\n",
              " 'ghmtoua',\n",
              " 'ghmtoau',\n",
              " 'ghmtuoa',\n",
              " 'ghmtuao',\n",
              " 'ghmtaou',\n",
              " 'ghmtauo',\n",
              " 'ghmaout',\n",
              " 'ghmaotu',\n",
              " 'ghmauot',\n",
              " 'ghmauto',\n",
              " 'ghmatou',\n",
              " 'ghmatuo',\n",
              " 'gaouthm',\n",
              " 'gaoutmh',\n",
              " 'gaouhtm',\n",
              " 'gaouhmt',\n",
              " 'gaoumth',\n",
              " 'gaoumht',\n",
              " 'gaotuhm',\n",
              " 'gaotumh',\n",
              " 'gaothum',\n",
              " 'gaothmu',\n",
              " 'gaotmuh',\n",
              " 'gaotmhu',\n",
              " 'gaohutm',\n",
              " 'gaohumt',\n",
              " 'gaohtum',\n",
              " 'gaohtmu',\n",
              " 'gaohmut',\n",
              " 'gaohmtu',\n",
              " 'gaomuth',\n",
              " 'gaomuht',\n",
              " 'gaomtuh',\n",
              " 'gaomthu',\n",
              " 'gaomhut',\n",
              " 'gaomhtu',\n",
              " 'gauothm',\n",
              " 'gauotmh',\n",
              " 'gauohtm',\n",
              " 'gauohmt',\n",
              " 'gauomth',\n",
              " 'gauomht',\n",
              " 'gautohm',\n",
              " 'gautomh',\n",
              " 'gauthom',\n",
              " 'gauthmo',\n",
              " 'gautmoh',\n",
              " 'gautmho',\n",
              " 'gauhotm',\n",
              " 'gauhomt',\n",
              " 'gauhtom',\n",
              " 'gauhtmo',\n",
              " 'gauhmot',\n",
              " 'gauhmto',\n",
              " 'gaumoth',\n",
              " 'gaumoht',\n",
              " 'gaumtoh',\n",
              " 'gaumtho',\n",
              " 'gaumhot',\n",
              " 'gaumhto',\n",
              " 'gatouhm',\n",
              " 'gatoumh',\n",
              " 'gatohum',\n",
              " 'gatohmu',\n",
              " 'gatomuh',\n",
              " 'gatomhu',\n",
              " 'gatuohm',\n",
              " 'gatuomh',\n",
              " 'gatuhom',\n",
              " 'gatuhmo',\n",
              " 'gatumoh',\n",
              " 'gatumho',\n",
              " 'gathoum',\n",
              " 'gathomu',\n",
              " 'gathuom',\n",
              " 'gathumo',\n",
              " 'gathmou',\n",
              " 'gathmuo',\n",
              " 'gatmouh',\n",
              " 'gatmohu',\n",
              " 'gatmuoh',\n",
              " 'gatmuho',\n",
              " 'gatmhou',\n",
              " 'gatmhuo',\n",
              " 'gahoutm',\n",
              " 'gahoumt',\n",
              " 'gahotum',\n",
              " 'gahotmu',\n",
              " 'gahomut',\n",
              " 'gahomtu',\n",
              " 'gahuotm',\n",
              " 'gahuomt',\n",
              " 'gahutom',\n",
              " 'gahutmo',\n",
              " 'gahumot',\n",
              " 'gahumto',\n",
              " 'gahtoum',\n",
              " 'gahtomu',\n",
              " 'gahtuom',\n",
              " 'gahtumo',\n",
              " 'gahtmou',\n",
              " 'gahtmuo',\n",
              " 'gahmout',\n",
              " 'gahmotu',\n",
              " 'gahmuot',\n",
              " 'gahmuto',\n",
              " 'gahmtou',\n",
              " 'gahmtuo',\n",
              " 'gamouth',\n",
              " 'gamouht',\n",
              " 'gamotuh',\n",
              " 'gamothu',\n",
              " 'gamohut',\n",
              " 'gamohtu',\n",
              " 'gamuoth',\n",
              " 'gamuoht',\n",
              " 'gamutoh',\n",
              " 'gamutho',\n",
              " 'gamuhot',\n",
              " 'gamuhto',\n",
              " 'gamtouh',\n",
              " 'gamtohu',\n",
              " 'gamtuoh',\n",
              " 'gamtuho',\n",
              " 'gamthou',\n",
              " 'gamthuo',\n",
              " 'gamhout',\n",
              " 'gamhotu',\n",
              " 'gamhuot',\n",
              " 'gamhuto',\n",
              " 'gamhtou',\n",
              " 'gamhtuo',\n",
              " 'gmoutha',\n",
              " 'gmoutah',\n",
              " 'gmouhta',\n",
              " 'gmouhat',\n",
              " 'gmouath',\n",
              " 'gmouaht',\n",
              " 'gmotuha',\n",
              " 'gmotuah',\n",
              " 'gmothua',\n",
              " 'gmothau',\n",
              " 'gmotauh',\n",
              " 'gmotahu',\n",
              " 'gmohuta',\n",
              " 'gmohuat',\n",
              " 'gmohtua',\n",
              " 'gmohtau',\n",
              " 'gmohaut',\n",
              " 'gmohatu',\n",
              " 'gmoauth',\n",
              " 'gmoauht',\n",
              " 'gmoatuh',\n",
              " 'gmoathu',\n",
              " 'gmoahut',\n",
              " 'gmoahtu',\n",
              " 'gmuotha',\n",
              " 'gmuotah',\n",
              " 'gmuohta',\n",
              " 'gmuohat',\n",
              " 'gmuoath',\n",
              " 'gmuoaht',\n",
              " 'gmutoha',\n",
              " 'gmutoah',\n",
              " 'gmuthoa',\n",
              " 'gmuthao',\n",
              " 'gmutaoh',\n",
              " 'gmutaho',\n",
              " 'gmuhota',\n",
              " 'gmuhoat',\n",
              " 'gmuhtoa',\n",
              " 'gmuhtao',\n",
              " 'gmuhaot',\n",
              " 'gmuhato',\n",
              " 'gmuaoth',\n",
              " 'gmuaoht',\n",
              " 'gmuatoh',\n",
              " 'gmuatho',\n",
              " 'gmuahot',\n",
              " 'gmuahto',\n",
              " 'gmtouha',\n",
              " 'gmtouah',\n",
              " 'gmtohua',\n",
              " 'gmtohau',\n",
              " 'gmtoauh',\n",
              " 'gmtoahu',\n",
              " 'gmtuoha',\n",
              " 'gmtuoah',\n",
              " 'gmtuhoa',\n",
              " 'gmtuhao',\n",
              " 'gmtuaoh',\n",
              " 'gmtuaho',\n",
              " 'gmthoua',\n",
              " 'gmthoau',\n",
              " 'gmthuoa',\n",
              " 'gmthuao',\n",
              " 'gmthaou',\n",
              " 'gmthauo',\n",
              " 'gmtaouh',\n",
              " 'gmtaohu',\n",
              " 'gmtauoh',\n",
              " 'gmtauho',\n",
              " 'gmtahou',\n",
              " 'gmtahuo',\n",
              " 'gmhouta',\n",
              " 'gmhouat',\n",
              " 'gmhotua',\n",
              " 'gmhotau',\n",
              " 'gmhoaut',\n",
              " 'gmhoatu',\n",
              " 'gmhuota',\n",
              " 'gmhuoat',\n",
              " 'gmhutoa',\n",
              " 'gmhutao',\n",
              " 'gmhuaot',\n",
              " 'gmhuato',\n",
              " 'gmhtoua',\n",
              " 'gmhtoau',\n",
              " 'gmhtuoa',\n",
              " 'gmhtuao',\n",
              " 'gmhtaou',\n",
              " 'gmhtauo',\n",
              " 'gmhaout',\n",
              " 'gmhaotu',\n",
              " 'gmhauot',\n",
              " 'gmhauto',\n",
              " 'gmhatou',\n",
              " 'gmhatuo',\n",
              " 'gmaouth',\n",
              " 'gmaouht',\n",
              " 'gmaotuh',\n",
              " 'gmaothu',\n",
              " 'gmaohut',\n",
              " 'gmaohtu',\n",
              " 'gmauoth',\n",
              " 'gmauoht',\n",
              " 'gmautoh',\n",
              " 'gmautho',\n",
              " 'gmauhot',\n",
              " 'gmauhto',\n",
              " 'gmatouh',\n",
              " 'gmatohu',\n",
              " 'gmatuoh',\n",
              " 'gmatuho',\n",
              " 'gmathou',\n",
              " 'gmathuo',\n",
              " 'gmahout',\n",
              " 'gmahotu',\n",
              " 'gmahuot',\n",
              " 'gmahuto',\n",
              " 'gmahtou',\n",
              " 'gmahtuo',\n",
              " 'ogutham',\n",
              " 'oguthma',\n",
              " 'ogutahm',\n",
              " 'ogutamh',\n",
              " 'ogutmha',\n",
              " 'ogutmah',\n",
              " 'oguhtam',\n",
              " 'oguhtma',\n",
              " 'oguhatm',\n",
              " 'oguhamt',\n",
              " 'oguhmta',\n",
              " 'oguhmat',\n",
              " 'oguathm',\n",
              " 'oguatmh',\n",
              " 'oguahtm',\n",
              " 'oguahmt',\n",
              " 'oguamth',\n",
              " 'oguamht',\n",
              " 'ogumtha',\n",
              " 'ogumtah',\n",
              " 'ogumhta',\n",
              " 'ogumhat',\n",
              " 'ogumath',\n",
              " 'ogumaht',\n",
              " 'ogtuham',\n",
              " 'ogtuhma',\n",
              " 'ogtuahm',\n",
              " 'ogtuamh',\n",
              " 'ogtumha',\n",
              " 'ogtumah',\n",
              " 'ogthuam',\n",
              " 'ogthuma',\n",
              " 'ogthaum',\n",
              " 'ogthamu',\n",
              " 'ogthmua',\n",
              " 'ogthmau',\n",
              " 'ogtauhm',\n",
              " 'ogtaumh',\n",
              " 'ogtahum',\n",
              " 'ogtahmu',\n",
              " 'ogtamuh',\n",
              " 'ogtamhu',\n",
              " 'ogtmuha',\n",
              " 'ogtmuah',\n",
              " 'ogtmhua',\n",
              " 'ogtmhau',\n",
              " 'ogtmauh',\n",
              " 'ogtmahu',\n",
              " 'oghutam',\n",
              " 'oghutma',\n",
              " 'oghuatm',\n",
              " 'oghuamt',\n",
              " 'oghumta',\n",
              " 'oghumat',\n",
              " 'oghtuam',\n",
              " 'oghtuma',\n",
              " 'oghtaum',\n",
              " 'oghtamu',\n",
              " 'oghtmua',\n",
              " 'oghtmau',\n",
              " 'oghautm',\n",
              " 'oghaumt',\n",
              " 'oghatum',\n",
              " 'oghatmu',\n",
              " 'oghamut',\n",
              " 'oghamtu',\n",
              " 'oghmuta',\n",
              " 'oghmuat',\n",
              " 'oghmtua',\n",
              " 'oghmtau',\n",
              " 'oghmaut',\n",
              " 'oghmatu',\n",
              " 'ogauthm',\n",
              " 'ogautmh',\n",
              " 'ogauhtm',\n",
              " 'ogauhmt',\n",
              " 'ogaumth',\n",
              " 'ogaumht',\n",
              " 'ogatuhm',\n",
              " 'ogatumh',\n",
              " 'ogathum',\n",
              " 'ogathmu',\n",
              " 'ogatmuh',\n",
              " 'ogatmhu',\n",
              " 'ogahutm',\n",
              " 'ogahumt',\n",
              " 'ogahtum',\n",
              " 'ogahtmu',\n",
              " 'ogahmut',\n",
              " 'ogahmtu',\n",
              " 'ogamuth',\n",
              " 'ogamuht',\n",
              " 'ogamtuh',\n",
              " 'ogamthu',\n",
              " 'ogamhut',\n",
              " 'ogamhtu',\n",
              " 'ogmutha',\n",
              " 'ogmutah',\n",
              " 'ogmuhta',\n",
              " 'ogmuhat',\n",
              " 'ogmuath',\n",
              " 'ogmuaht',\n",
              " 'ogmtuha',\n",
              " 'ogmtuah',\n",
              " 'ogmthua',\n",
              " 'ogmthau',\n",
              " 'ogmtauh',\n",
              " 'ogmtahu',\n",
              " 'ogmhuta',\n",
              " 'ogmhuat',\n",
              " 'ogmhtua',\n",
              " 'ogmhtau',\n",
              " 'ogmhaut',\n",
              " 'ogmhatu',\n",
              " 'ogmauth',\n",
              " 'ogmauht',\n",
              " 'ogmatuh',\n",
              " 'ogmathu',\n",
              " 'ogmahut',\n",
              " 'ogmahtu',\n",
              " 'ougtham',\n",
              " 'ougthma',\n",
              " 'ougtahm',\n",
              " 'ougtamh',\n",
              " 'ougtmha',\n",
              " 'ougtmah',\n",
              " 'oughtam',\n",
              " 'oughtma',\n",
              " 'oughatm',\n",
              " 'oughamt',\n",
              " 'oughmta',\n",
              " 'oughmat',\n",
              " 'ougathm',\n",
              " 'ougatmh',\n",
              " 'ougahtm',\n",
              " 'ougahmt',\n",
              " 'ougamth',\n",
              " 'ougamht',\n",
              " 'ougmtha',\n",
              " 'ougmtah',\n",
              " 'ougmhta',\n",
              " 'ougmhat',\n",
              " 'ougmath',\n",
              " 'ougmaht',\n",
              " 'outgham',\n",
              " 'outghma',\n",
              " 'outgahm',\n",
              " 'outgamh',\n",
              " 'outgmha',\n",
              " 'outgmah',\n",
              " 'outhgam',\n",
              " 'outhgma',\n",
              " 'outhagm',\n",
              " 'outhamg',\n",
              " 'outhmga',\n",
              " 'outhmag',\n",
              " 'outaghm',\n",
              " 'outagmh',\n",
              " 'outahgm',\n",
              " 'outahmg',\n",
              " 'outamgh',\n",
              " 'outamhg',\n",
              " 'outmgha',\n",
              " 'outmgah',\n",
              " 'outmhga',\n",
              " 'outmhag',\n",
              " 'outmagh',\n",
              " 'outmahg',\n",
              " 'ouhgtam',\n",
              " 'ouhgtma',\n",
              " 'ouhgatm',\n",
              " 'ouhgamt',\n",
              " 'ouhgmta',\n",
              " 'ouhgmat',\n",
              " 'ouhtgam',\n",
              " 'ouhtgma',\n",
              " 'ouhtagm',\n",
              " 'ouhtamg',\n",
              " 'ouhtmga',\n",
              " 'ouhtmag',\n",
              " 'ouhagtm',\n",
              " 'ouhagmt',\n",
              " 'ouhatgm',\n",
              " 'ouhatmg',\n",
              " 'ouhamgt',\n",
              " 'ouhamtg',\n",
              " 'ouhmgta',\n",
              " 'ouhmgat',\n",
              " 'ouhmtga',\n",
              " 'ouhmtag',\n",
              " 'ouhmagt',\n",
              " 'ouhmatg',\n",
              " 'ouagthm',\n",
              " 'ouagtmh',\n",
              " 'ouaghtm',\n",
              " 'ouaghmt',\n",
              " 'ouagmth',\n",
              " 'ouagmht',\n",
              " 'ouatghm',\n",
              " 'ouatgmh',\n",
              " 'ouathgm',\n",
              " 'ouathmg',\n",
              " 'ouatmgh',\n",
              " 'ouatmhg',\n",
              " 'ouahgtm',\n",
              " 'ouahgmt',\n",
              " 'ouahtgm',\n",
              " 'ouahtmg',\n",
              " 'ouahmgt',\n",
              " 'ouahmtg',\n",
              " 'ouamgth',\n",
              " 'ouamght',\n",
              " 'ouamtgh',\n",
              " 'ouamthg',\n",
              " 'ouamhgt',\n",
              " 'ouamhtg',\n",
              " 'oumgtha',\n",
              " 'oumgtah',\n",
              " 'oumghta',\n",
              " 'oumghat',\n",
              " 'oumgath',\n",
              " 'oumgaht',\n",
              " 'oumtgha',\n",
              " 'oumtgah',\n",
              " 'oumthga',\n",
              " 'oumthag',\n",
              " 'oumtagh',\n",
              " 'oumtahg',\n",
              " 'oumhgta',\n",
              " 'oumhgat',\n",
              " 'oumhtga',\n",
              " 'oumhtag',\n",
              " 'oumhagt',\n",
              " 'oumhatg',\n",
              " 'oumagth',\n",
              " 'oumaght',\n",
              " 'oumatgh',\n",
              " 'oumathg',\n",
              " 'oumahgt',\n",
              " 'oumahtg',\n",
              " 'otguham',\n",
              " 'otguhma',\n",
              " 'otguahm',\n",
              " 'otguamh',\n",
              " 'otgumha',\n",
              " 'otgumah',\n",
              " 'otghuam',\n",
              " 'otghuma',\n",
              " 'otghaum',\n",
              " 'otghamu',\n",
              " 'otghmua',\n",
              " 'otghmau',\n",
              " 'otgauhm',\n",
              " 'otgaumh',\n",
              " 'otgahum',\n",
              " 'otgahmu',\n",
              " 'otgamuh',\n",
              " 'otgamhu',\n",
              " 'otgmuha',\n",
              " 'otgmuah',\n",
              " 'otgmhua',\n",
              " 'otgmhau',\n",
              " 'otgmauh',\n",
              " 'otgmahu',\n",
              " 'otugham',\n",
              " 'otughma',\n",
              " 'otugahm',\n",
              " 'otugamh',\n",
              " 'otugmha',\n",
              " 'otugmah',\n",
              " 'otuhgam',\n",
              " 'otuhgma',\n",
              " 'otuhagm',\n",
              " 'otuhamg',\n",
              " 'otuhmga',\n",
              " 'otuhmag',\n",
              " 'otuaghm',\n",
              " 'otuagmh',\n",
              " 'otuahgm',\n",
              " 'otuahmg',\n",
              " ...]"
            ]
          },
          "metadata": {
            "tags": []
          },
          "execution_count": 40
        }
      ]
    },
    {
      "cell_type": "code",
      "metadata": {
        "id": "Q82z4ZvQBbCq"
      },
      "source": [
        "def hello(a):\n",
        "  return a//2 and a == 1\n"
      ],
      "execution_count": null,
      "outputs": []
    },
    {
      "cell_type": "code",
      "metadata": {
        "id": "xnhJOQ7yBbPt",
        "outputId": "f29a4219-1fe7-45c9-86a4-49b7accc2fb5",
        "colab": {
          "base_uri": "https://localhost:8080/",
          "height": 34
        }
      },
      "source": [
        "hello(2)"
      ],
      "execution_count": null,
      "outputs": [
        {
          "output_type": "execute_result",
          "data": {
            "text/plain": [
              "False"
            ]
          },
          "metadata": {
            "tags": []
          },
          "execution_count": 12
        }
      ]
    },
    {
      "cell_type": "code",
      "metadata": {
        "id": "40ZTL_diBbZy",
        "outputId": "c3986f1a-ce9f-4db4-8ab6-a0b1b3eb0968",
        "colab": {
          "base_uri": "https://localhost:8080/",
          "height": 34
        }
      },
      "source": [
        "print(None and True)"
      ],
      "execution_count": null,
      "outputs": [
        {
          "output_type": "stream",
          "text": [
            "None\n"
          ],
          "name": "stdout"
        }
      ]
    },
    {
      "cell_type": "code",
      "metadata": {
        "id": "r9zIfhxsxF2j"
      },
      "source": [
        ""
      ],
      "execution_count": null,
      "outputs": []
    },
    {
      "cell_type": "code",
      "metadata": {
        "id": "zaZyNz9pxFwh"
      },
      "source": [
        "def isBinarySearch(tree):\n",
        "  if tree.leftchild:\n",
        "    if tree.leftchild.value < tree.value:\n",
        "      isBinarySearch(tree.leftchild)\n",
        "    else:\n",
        "      return False\n",
        "  elif tree.rightchild:\n",
        "    if tree.rightchild.value > tree.value:\n",
        "      isBinarySearch(tree.rightchild)\n",
        "    else:\n",
        "      return False\n",
        "  else:\n",
        "    return True"
      ],
      "execution_count": null,
      "outputs": []
    },
    {
      "cell_type": "code",
      "metadata": {
        "id": "D9chWROlxF6d"
      },
      "source": [
        "class Node:\n",
        "  def __init__(self,val = None):\n",
        "    self.left = None\n",
        "    self.right = None\n",
        "    self.val = val\n"
      ],
      "execution_count": null,
      "outputs": []
    },
    {
      "cell_type": "code",
      "metadata": {
        "id": "kECChnlCxFz-"
      },
      "source": [
        "def LevelOrderPrint(tree):\n",
        "  if tree:\n",
        "    if tree.left:\n",
        "      currentleft = tree.left\n",
        "      print(currentleft.val, end = \" \")\n",
        "    if tree.right:\n",
        "      currentright = tree.right\n",
        "      print(currentright.val, end = \" \")\n",
        "     \n",
        "    current1 = LevelOrderPrint(tree.left)\n",
        "    current2 = LevelOrderPrint(tree.right)"
      ],
      "execution_count": null,
      "outputs": []
    },
    {
      "cell_type": "code",
      "metadata": {
        "id": "n6K1T_MwxFuJ"
      },
      "source": [
        "a = Node(1)\n",
        "a.left = Node(2)\n",
        "a.right = Node(3)\n",
        "a.left.left = Node(4)\n",
        "a.left.right = Node(5)\n",
        "a.right.left = Node(6)\n",
        "a.right.right = Node(7)"
      ],
      "execution_count": null,
      "outputs": []
    },
    {
      "cell_type": "code",
      "metadata": {
        "id": "mbDqGfGYxFp_",
        "outputId": "2073ec38-5787-4467-eab3-a09a9390eb20",
        "colab": {
          "base_uri": "https://localhost:8080/",
          "height": 320
        }
      },
      "source": [
        "LevelOrderPrint(a)"
      ],
      "execution_count": null,
      "outputs": [
        {
          "output_type": "stream",
          "text": [
            "2 3 4 5 "
          ],
          "name": "stdout"
        },
        {
          "output_type": "error",
          "ename": "AttributeError",
          "evalue": "ignored",
          "traceback": [
            "\u001b[0;31m---------------------------------------------------------------------------\u001b[0m",
            "\u001b[0;31mAttributeError\u001b[0m                            Traceback (most recent call last)",
            "\u001b[0;32m<ipython-input-37-e3b39592f293>\u001b[0m in \u001b[0;36m<module>\u001b[0;34m()\u001b[0m\n\u001b[0;32m----> 1\u001b[0;31m \u001b[0mLevelOrderPrint\u001b[0m\u001b[0;34m(\u001b[0m\u001b[0ma\u001b[0m\u001b[0;34m)\u001b[0m\u001b[0;34m\u001b[0m\u001b[0;34m\u001b[0m\u001b[0m\n\u001b[0m",
            "\u001b[0;32m<ipython-input-35-96406dbfb1f2>\u001b[0m in \u001b[0;36mLevelOrderPrint\u001b[0;34m(tree)\u001b[0m\n\u001b[1;32m     11\u001b[0m         \u001b[0mprint\u001b[0m\u001b[0;34m(\u001b[0m\u001b[0;34m)\u001b[0m\u001b[0;34m\u001b[0m\u001b[0;34m\u001b[0m\u001b[0m\n\u001b[1;32m     12\u001b[0m \u001b[0;34m\u001b[0m\u001b[0m\n\u001b[0;32m---> 13\u001b[0;31m     \u001b[0mcurrent1\u001b[0m \u001b[0;34m=\u001b[0m \u001b[0mLevelOrderPrint\u001b[0m\u001b[0;34m(\u001b[0m\u001b[0mtree\u001b[0m\u001b[0;34m.\u001b[0m\u001b[0mleft\u001b[0m\u001b[0;34m)\u001b[0m\u001b[0;34m\u001b[0m\u001b[0;34m\u001b[0m\u001b[0m\n\u001b[0m\u001b[1;32m     14\u001b[0m     \u001b[0mcurrent2\u001b[0m \u001b[0;34m=\u001b[0m \u001b[0mLevelOrderPrint\u001b[0m\u001b[0;34m(\u001b[0m\u001b[0mtree\u001b[0m\u001b[0;34m.\u001b[0m\u001b[0mright\u001b[0m\u001b[0;34m)\u001b[0m\u001b[0;34m\u001b[0m\u001b[0;34m\u001b[0m\u001b[0m\n",
            "\u001b[0;32m<ipython-input-35-96406dbfb1f2>\u001b[0m in \u001b[0;36mLevelOrderPrint\u001b[0;34m(tree)\u001b[0m\n\u001b[1;32m      8\u001b[0m       \u001b[0mprint\u001b[0m\u001b[0;34m(\u001b[0m\u001b[0mcurrentright\u001b[0m\u001b[0;34m.\u001b[0m\u001b[0mval\u001b[0m\u001b[0;34m,\u001b[0m \u001b[0mend\u001b[0m \u001b[0;34m=\u001b[0m \u001b[0;34m\" \"\u001b[0m\u001b[0;34m)\u001b[0m\u001b[0;34m\u001b[0m\u001b[0;34m\u001b[0m\u001b[0m\n\u001b[1;32m      9\u001b[0m     \u001b[0;32mif\u001b[0m \u001b[0mtree\u001b[0m\u001b[0;34m.\u001b[0m\u001b[0mparent\u001b[0m\u001b[0;34m:\u001b[0m\u001b[0;34m\u001b[0m\u001b[0;34m\u001b[0m\u001b[0m\n\u001b[0;32m---> 10\u001b[0;31m       \u001b[0;32mif\u001b[0m \u001b[0mtree\u001b[0m\u001b[0;34m.\u001b[0m\u001b[0mparent\u001b[0m\u001b[0;34m.\u001b[0m\u001b[0misright\u001b[0m\u001b[0;34m(\u001b[0m\u001b[0;34m)\u001b[0m\u001b[0;34m:\u001b[0m\u001b[0;34m\u001b[0m\u001b[0;34m\u001b[0m\u001b[0m\n\u001b[0m\u001b[1;32m     11\u001b[0m         \u001b[0mprint\u001b[0m\u001b[0;34m(\u001b[0m\u001b[0;34m)\u001b[0m\u001b[0;34m\u001b[0m\u001b[0;34m\u001b[0m\u001b[0m\n\u001b[1;32m     12\u001b[0m \u001b[0;34m\u001b[0m\u001b[0m\n",
            "\u001b[0;32m<ipython-input-33-7cefe08c2291>\u001b[0m in \u001b[0;36misright\u001b[0;34m(self)\u001b[0m\n\u001b[1;32m      6\u001b[0m     \u001b[0mself\u001b[0m\u001b[0;34m.\u001b[0m\u001b[0mparent\u001b[0m \u001b[0;34m=\u001b[0m \u001b[0mparent\u001b[0m\u001b[0;34m\u001b[0m\u001b[0;34m\u001b[0m\u001b[0m\n\u001b[1;32m      7\u001b[0m   \u001b[0;32mdef\u001b[0m \u001b[0misright\u001b[0m\u001b[0;34m(\u001b[0m\u001b[0mself\u001b[0m\u001b[0;34m)\u001b[0m\u001b[0;34m:\u001b[0m\u001b[0;34m\u001b[0m\u001b[0;34m\u001b[0m\u001b[0m\n\u001b[0;32m----> 8\u001b[0;31m     \u001b[0;32mreturn\u001b[0m \u001b[0mself\u001b[0m \u001b[0;34m==\u001b[0m \u001b[0mself\u001b[0m\u001b[0;34m.\u001b[0m\u001b[0mparent\u001b[0m\u001b[0;34m.\u001b[0m\u001b[0mright\u001b[0m\u001b[0;34m\u001b[0m\u001b[0;34m\u001b[0m\u001b[0m\n\u001b[0m\u001b[1;32m      9\u001b[0m \u001b[0;34m\u001b[0m\u001b[0m\n\u001b[1;32m     10\u001b[0m \u001b[0;34m\u001b[0m\u001b[0m\n",
            "\u001b[0;31mAttributeError\u001b[0m: 'NoneType' object has no attribute 'right'"
          ]
        }
      ]
    },
    {
      "cell_type": "code",
      "metadata": {
        "id": "wUmGxLg-0jGD"
      },
      "source": [
        "def trim(tree,min,max):\n",
        "  if tree.val < min or tree.val > max:\n",
        "    if tree.left:\n",
        "      trim(tree.left,min,max)\n",
        "    if tree.right:\n",
        "      trim(tree.right,min,max)\n",
        "  \n"
      ],
      "execution_count": null,
      "outputs": []
    },
    {
      "cell_type": "code",
      "metadata": {
        "id": "QynwiOMs0jKE"
      },
      "source": [
        "def shell_sort(arr):\n",
        "  "
      ],
      "execution_count": null,
      "outputs": []
    },
    {
      "cell_type": "code",
      "metadata": {
        "id": "KdpIEFkv0jCy"
      },
      "source": [
        "from collections import OrderedDict\n",
        "class Node:\n",
        "  def __init__(self, value):\n",
        "    self.value = value\n",
        "    self.neigh = OrderedDict()\n",
        "  \n",
        "  def __str__(self):\n",
        "    return str(self.value)\n",
        "\n"
      ],
      "execution_count": null,
      "outputs": []
    },
    {
      "cell_type": "code",
      "metadata": {
        "id": "TcnCrT1jOAHt"
      },
      "source": [
        "class Graph:\n",
        "  def __init__(self):\n",
        "    self.nodes = OrderedDict()\n",
        "  def addnode(self,value):\n",
        "    node = Node(value)\n",
        "    self.nodes[value] = node\n",
        "    return node\n",
        "  def addedge(self,this,that,weight):\n",
        "    if this not in self.nodes:\n",
        "      self.addnode(this)\n",
        "    if that not in self.nodes:\n",
        "      self.addnode(that)\n",
        "    self.nodes[this].neigh[self.nodes[that]] = weight"
      ],
      "execution_count": null,
      "outputs": []
    },
    {
      "cell_type": "code",
      "metadata": {
        "id": "xXG-OiV6OAXL",
        "outputId": "40a1790e-09be-4559-8c3b-031a29a0917a",
        "colab": {
          "base_uri": "https://localhost:8080/",
          "height": 50
        }
      },
      "source": [
        "g = Graph()\n",
        "g.addedge(2,3,4)\n",
        "g.nodes"
      ],
      "execution_count": null,
      "outputs": [
        {
          "output_type": "execute_result",
          "data": {
            "text/plain": [
              "OrderedDict([(2, <__main__.Node at 0x7f17893902b0>),\n",
              "             (3, <__main__.Node at 0x7f17893fae48>)])"
            ]
          },
          "metadata": {
            "tags": []
          },
          "execution_count": 7
        }
      ]
    },
    {
      "cell_type": "code",
      "metadata": {
        "id": "d87xR3t6OAkn"
      },
      "source": [
        "def romantoint(rom):\n",
        "  num = 0\n",
        "  dictionary = {\"I\":1, \"V\":5, \"X\":10, \"L\":50, \"C\":100, \"D\":500, \"M\":1000}\n",
        "  while len(rom) != 0:\n",
        "    if len(rom) == 1:\n",
        "      num += dictionary[rom]\n",
        "      break\n",
        "    if dictionary[rom[0]] < dictionary[rom[1]]:\n",
        "      num -= dictionary[rom[0]] \n",
        "    else:\n",
        "      num += dictionary[rom[0]]  \n",
        "    rom = rom[1:]\n",
        "  return num"
      ],
      "execution_count": null,
      "outputs": []
    },
    {
      "cell_type": "code",
      "metadata": {
        "id": "il7F4hxW_Lxp",
        "outputId": "818bf6b2-0d61-4812-b72e-675bf9308a5b",
        "colab": {
          "base_uri": "https://localhost:8080/",
          "height": 34
        }
      },
      "source": [
        "romantoint(\"MCMXCIV\")"
      ],
      "execution_count": null,
      "outputs": [
        {
          "output_type": "execute_result",
          "data": {
            "text/plain": [
              "1994"
            ]
          },
          "metadata": {
            "tags": []
          },
          "execution_count": 37
        }
      ]
    },
    {
      "cell_type": "code",
      "metadata": {
        "id": "l-1Z-eWAFThx"
      },
      "source": [
        "class Solution:\n",
        "    def romanToInt(self, s: str) -> int:\n",
        "        if len(s) == 0:\n",
        "            return 0\n",
        "        dictionary = {\"I\":1, \"V\":5, \"X\":10, \"L\":50, \"C\":100, \"D\":500, \"M\":1000}\n",
        "        if len(s) == 1:\n",
        "            return dictionary[s]\n",
        "        if dictionary[s[0]] < dictionary[s[1]]:\n",
        "            return self.romanIoInt(s[1:]) - dictionary[s[0]] \n",
        "        else:\n",
        "            return dictionary[s[0]] + self.romanToInt(s[1:])\n",
        "        \n",
        "        "
      ],
      "execution_count": null,
      "outputs": []
    },
    {
      "cell_type": "code",
      "metadata": {
        "id": "ik84K5i1FWrR",
        "outputId": "f7cf38e1-fb3f-4a68-92c4-6d71dbb77cce",
        "colab": {
          "base_uri": "https://localhost:8080/",
          "height": 178
        }
      },
      "source": [
        "b = Solution\n",
        "b.romanToInt(\"II\")"
      ],
      "execution_count": null,
      "outputs": [
        {
          "output_type": "error",
          "ename": "TypeError",
          "evalue": "ignored",
          "traceback": [
            "\u001b[0;31m---------------------------------------------------------------------------\u001b[0m",
            "\u001b[0;31mTypeError\u001b[0m                                 Traceback (most recent call last)",
            "\u001b[0;32m<ipython-input-29-1453f3d80d08>\u001b[0m in \u001b[0;36m<module>\u001b[0;34m()\u001b[0m\n\u001b[1;32m      1\u001b[0m \u001b[0mb\u001b[0m \u001b[0;34m=\u001b[0m \u001b[0mSolution\u001b[0m\u001b[0;34m\u001b[0m\u001b[0;34m\u001b[0m\u001b[0m\n\u001b[0;32m----> 2\u001b[0;31m \u001b[0mb\u001b[0m\u001b[0;34m.\u001b[0m\u001b[0mromanToInt\u001b[0m\u001b[0;34m(\u001b[0m\u001b[0;34m\"II\"\u001b[0m\u001b[0;34m)\u001b[0m\u001b[0;34m\u001b[0m\u001b[0;34m\u001b[0m\u001b[0m\n\u001b[0m",
            "\u001b[0;31mTypeError\u001b[0m: romanToInt() missing 1 required positional argument: 's'"
          ]
        }
      ]
    },
    {
      "cell_type": "code",
      "metadata": {
        "id": "sJHHHgjzNzBL"
      },
      "source": [
        "def p(strs):    \n",
        "  n = len(strs)\n",
        "  condition = True\n",
        "  for let in strs[0]:\n",
        "    if condition:\n",
        "      pref = strs[0][:strs[0].index(let)]\n",
        "    else:\n",
        "      return pref\n",
        "    for word in strs:\n",
        "      if n == 1:\n",
        "        return strs[0]\n",
        "      if len(pref) >= len(word):\n",
        "        return pref\n",
        "      if pref == word[:strs[0].index(let)]:\n",
        "        condition = True\n",
        "      else:\n",
        "        condition = False\n",
        "        pref = word[:strs[0].index(let)-1]\n",
        "        break\n",
        "  return pref\n",
        "            "
      ],
      "execution_count": null,
      "outputs": []
    },
    {
      "cell_type": "code",
      "metadata": {
        "id": "G0e9WViLOg2G",
        "outputId": "ee2cc743-1d51-4b1b-9436-e61f80bc3c96",
        "colab": {
          "base_uri": "https://localhost:8080/",
          "height": 52
        }
      },
      "source": [
        "p([\"a\"])"
      ],
      "execution_count": null,
      "outputs": [
        {
          "output_type": "stream",
          "text": [
            "\n"
          ],
          "name": "stdout"
        },
        {
          "output_type": "execute_result",
          "data": {
            "application/vnd.google.colaboratory.intrinsic+json": {
              "type": "string"
            },
            "text/plain": [
              "''"
            ]
          },
          "metadata": {
            "tags": []
          },
          "execution_count": 48
        }
      ]
    },
    {
      "cell_type": "code",
      "metadata": {
        "id": "D45uyhHNVnE6"
      },
      "source": [
        "a = \"helloo\"\n",
        "a.index(\"\")"
      ],
      "execution_count": null,
      "outputs": []
    },
    {
      "cell_type": "code",
      "metadata": {
        "id": "jGrCwUS8H5FK",
        "outputId": "ab6b0419-f1a2-4b2e-c2a2-8ab40991f270",
        "colab": {
          "base_uri": "https://localhost:8080/",
          "height": 50
        }
      },
      "source": [
        "dic = {\"(\":\")\",\"[\":\"]\",\"{\":\"}\"}\n",
        "s = \"()\"\n",
        "print()\n",
        "if s[-1] == dic[s[0]]:\n",
        "  print(\"yes\")"
      ],
      "execution_count": null,
      "outputs": [
        {
          "output_type": "stream",
          "text": [
            "\n",
            "yes\n"
          ],
          "name": "stdout"
        }
      ]
    },
    {
      "cell_type": "code",
      "metadata": {
        "id": "ImZ1eIQEH5Yp"
      },
      "source": [
        "def isValid(s):  \n",
        "  dic = {\"(\":\")\",\"[\":\"]\",\"{\":\"}\"}\n",
        "  n = len(s)\n",
        "  for i in range(n):\n",
        "    if len(s) == 0:\n",
        "      return True\n",
        "    elif len(s)%2 != 0:\n",
        "      return False\n",
        "    else:\n",
        "      if s[0] in dic and s[-1] == dic[s[0]]:\n",
        "        s = s[1:-1]\n",
        "      else:\n",
        "        return False"
      ],
      "execution_count": null,
      "outputs": []
    },
    {
      "cell_type": "code",
      "metadata": {
        "id": "W-rPAuSZKV7y",
        "outputId": "8e128f6e-c20d-4e12-a908-c5db70864e63",
        "colab": {
          "base_uri": "https://localhost:8080/",
          "height": 84
        }
      },
      "source": [
        "print(isValid(\"([])\"))"
      ],
      "execution_count": null,
      "outputs": [
        {
          "output_type": "stream",
          "text": [
            "0 ([])\n",
            "1 []\n",
            "2 \n",
            "True\n"
          ],
          "name": "stdout"
        }
      ]
    },
    {
      "cell_type": "code",
      "metadata": {
        "id": "w8lZSY4FKlR5",
        "outputId": "409ff020-a324-4037-afc8-a60fa0b6b0c9",
        "colab": {
          "base_uri": "https://localhost:8080/",
          "height": 34
        }
      },
      "source": [
        "s = \"()\"\n",
        "s = s[1:-1]\n",
        "len(s)"
      ],
      "execution_count": null,
      "outputs": [
        {
          "output_type": "execute_result",
          "data": {
            "text/plain": [
              "0"
            ]
          },
          "metadata": {
            "tags": []
          },
          "execution_count": 15
        }
      ]
    },
    {
      "cell_type": "code",
      "metadata": {
        "id": "HtfSdS7OPcN6"
      },
      "source": [
        "def isvalid(s):  \n",
        "  dic = {\"(\":\")\",\"[\":\"]\",\"{\":\"}\"}\n",
        "  n = len(s)\n",
        "  for i in range(n):\n",
        "    if len(s) == 0:\n",
        "      return True\n",
        "    if dic[s[0]] in s:\n",
        "      ind = s.index(dic[s[0]])\n",
        "      s.replace(s[0],\"\")\n",
        "      s.replace(dic[s[0]],\"\")\n",
        "    "
      ],
      "execution_count": null,
      "outputs": []
    },
    {
      "cell_type": "code",
      "metadata": {
        "id": "rSxEtBorbhi9",
        "outputId": "ab2af003-9f02-4777-e74d-14d4d9dd3785",
        "colab": {
          "base_uri": "https://localhost:8080/",
          "height": 54
        }
      },
      "source": [
        "def bio():\n",
        "\tlove = \"Family \" + \"Plants \" \n",
        "\tstatus = \"Busy building my Empire \"\n",
        "\tHobbies = \"Dance \" + \"Listening music \" + \"Drawing \" \n",
        "\tmisc = \"Fitness \" + \"Veggie \" + \"kiddo\" + \"Lord Shiva\"\n",
        "\tBestme = \"goodness \"*100 #if u give 1%\n",
        "\tBadme = \"attitude \"*100 #if u show 1%\n",
        "\treturn love + status + Hobbies + misc + Bestme + Badme\n",
        "print(bio())"
      ],
      "execution_count": null,
      "outputs": [
        {
          "output_type": "stream",
          "text": [
            "Family Plants Busy building my Empire Dance Listening music Drawing Fitness Veggie kiddoLord Shivagoodness goodness goodness goodness goodness goodness goodness goodness goodness goodness goodness goodness goodness goodness goodness goodness goodness goodness goodness goodness goodness goodness goodness goodness goodness goodness goodness goodness goodness goodness goodness goodness goodness goodness goodness goodness goodness goodness goodness goodness goodness goodness goodness goodness goodness goodness goodness goodness goodness goodness goodness goodness goodness goodness goodness goodness goodness goodness goodness goodness goodness goodness goodness goodness goodness goodness goodness goodness goodness goodness goodness goodness goodness goodness goodness goodness goodness goodness goodness goodness goodness goodness goodness goodness goodness goodness goodness goodness goodness goodness goodness goodness goodness goodness goodness goodness goodness goodness goodness goodness attitude attitude attitude attitude attitude attitude attitude attitude attitude attitude attitude attitude attitude attitude attitude attitude attitude attitude attitude attitude attitude attitude attitude attitude attitude attitude attitude attitude attitude attitude attitude attitude attitude attitude attitude attitude attitude attitude attitude attitude attitude attitude attitude attitude attitude attitude attitude attitude attitude attitude attitude attitude attitude attitude attitude attitude attitude attitude attitude attitude attitude attitude attitude attitude attitude attitude attitude attitude attitude attitude attitude attitude attitude attitude attitude attitude attitude attitude attitude attitude attitude attitude attitude attitude attitude attitude attitude attitude attitude attitude attitude attitude attitude attitude attitude attitude attitude attitude attitude attitude \n"
          ],
          "name": "stdout"
        }
      ]
    }
  ]
}