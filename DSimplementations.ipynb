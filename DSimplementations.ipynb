{
  "nbformat": 4,
  "nbformat_minor": 0,
  "metadata": {
    "colab": {
      "name": "DSimplementations.ipynb",
      "provenance": [],
      "authorship_tag": "ABX9TyOsWFL5qV/4uTTG553XPaez",
      "include_colab_link": true
    },
    "kernelspec": {
      "name": "python3",
      "display_name": "Python 3"
    },
    "language_info": {
      "name": "python"
    }
  },
  "cells": [
    {
      "cell_type": "markdown",
      "metadata": {
        "id": "view-in-github",
        "colab_type": "text"
      },
      "source": [
        "<a href=\"https://colab.research.google.com/github/meghanachunduru22/DSA-Practice/blob/main/DSimplementations.ipynb\" target=\"_parent\"><img src=\"https://colab.research.google.com/assets/colab-badge.svg\" alt=\"Open In Colab\"/></a>"
      ]
    },
    {
      "cell_type": "markdown",
      "metadata": {
        "id": "4DJGn218RxtM"
      },
      "source": [
        "Linked List\n"
      ]
    },
    {
      "cell_type": "code",
      "metadata": {
        "colab": {
          "base_uri": "https://localhost:8080/"
        },
        "id": "AJNPrU11RsKM",
        "outputId": "3eeb9c17-278c-459a-c06c-8df7945900fc"
      },
      "source": [
        "class Node:\n",
        "  def __init__(self,value,next=None):\n",
        "    self.value = value\n",
        "    self.next = next\n",
        "\n",
        "a = Node(1)\n",
        "b = Node(2)\n",
        "c = Node(3)\n",
        "\n",
        "a.next = b\n",
        "b.next = c\n",
        "\n",
        "def printll(head):\n",
        "  while head != None:\n",
        "    print(head.value)\n",
        "    head = head.next\n",
        "\n",
        "printll(a)\n"
      ],
      "execution_count": null,
      "outputs": [
        {
          "output_type": "stream",
          "text": [
            "1\n",
            "2\n",
            "3\n"
          ],
          "name": "stdout"
        }
      ]
    },
    {
      "cell_type": "code",
      "metadata": {
        "colab": {
          "base_uri": "https://localhost:8080/"
        },
        "id": "sL7Wk4-AdO2m",
        "outputId": "c9ea674d-9665-4403-927f-8813c645ec84"
      },
      "source": [
        "class Node:\n",
        "  def __init__(self,value,next=None):\n",
        "    self.value = value\n",
        "    self.next = next\n",
        "\n",
        "a = Node(1)\n",
        "b = Node(2)\n",
        "c = Node(3)\n",
        "d = Node(4)\n",
        "e = Node(5)\n",
        "#f = Node(6)\n",
        "\n",
        "a.next = b\n",
        "b.next = c\n",
        "c.next = d\n",
        "d.next = e\n",
        "#e.next = f\n",
        "#f.next = a\n",
        "\n",
        "\n",
        "def printll(head):\n",
        "  l = []\n",
        "  while head != None:\n",
        "    l.append(str(head.value))\n",
        "    head = head.next\n",
        "  print(\" -> \".join(l))\n",
        "def nth_to_last(n,head):\n",
        "  p1 = head\n",
        "  p2 = head\n",
        "  i=1\n",
        "  while i<=n:\n",
        "    i += 1\n",
        "    p2 = p2.next\n",
        "  while p2!=None:\n",
        "    p1 = p1.next\n",
        "    p2 = p2.next\n",
        "  return p1\n",
        "\n",
        "#printll(a)\n",
        "#nth_from_last = nth_to_last(2,a)\n",
        "#print(nth_from_last.value)\n",
        "\n",
        "\n",
        "def rev(head):\n",
        "  current = head\n",
        "  prev, next = None, None\n",
        "\n",
        "  while current != None:\n",
        "    next = current.next\n",
        "    current.next = prev\n",
        "    prev = current\n",
        "    current = next\n",
        "\n",
        "    \n",
        "\n",
        "\n",
        "#rev(a)\n",
        "#printll(e)\n",
        "def mid(head):\n",
        "  p1 = head\n",
        "  p2 = head.next\n",
        "  while p2!= None:\n",
        "    p1 = p1.next\n",
        "    p2 = p2.next.next\n",
        "  return p1\n",
        "\n",
        "#print(mid(a).value)\n",
        "\n",
        "def cycle_check(head):\n",
        "  p1 = head\n",
        "  p2 = head.next\n",
        "  while p2.next:\n",
        "\n",
        "    if p1==p2:\n",
        "      return True\n",
        "    p1 = p1.next\n",
        "    p2 = p2.next.next\n",
        "  return False\n",
        "print(cycle_check(a))\n",
        "\n",
        "\n"
      ],
      "execution_count": null,
      "outputs": [
        {
          "output_type": "stream",
          "text": [
            "True\n"
          ],
          "name": "stdout"
        }
      ]
    },
    {
      "cell_type": "code",
      "metadata": {
        "id": "XTWVgk-tyy0E"
      },
      "source": [
        ""
      ],
      "execution_count": null,
      "outputs": []
    },
    {
      "cell_type": "code",
      "metadata": {
        "id": "IyYxKMoeyzai"
      },
      "source": [
        ""
      ],
      "execution_count": null,
      "outputs": []
    },
    {
      "cell_type": "code",
      "metadata": {
        "id": "wzpE6R9-yz-X"
      },
      "source": [
        ""
      ],
      "execution_count": null,
      "outputs": []
    },
    {
      "cell_type": "code",
      "metadata": {
        "id": "ou3hVbrJy0Fq"
      },
      "source": [
        ""
      ],
      "execution_count": null,
      "outputs": []
    },
    {
      "cell_type": "code",
      "metadata": {
        "id": "pO-wT6Xby0IU"
      },
      "source": [
        ""
      ],
      "execution_count": null,
      "outputs": []
    },
    {
      "cell_type": "code",
      "metadata": {
        "id": "AN4D_8--y0L_"
      },
      "source": [
        ""
      ],
      "execution_count": null,
      "outputs": []
    }
  ]
}